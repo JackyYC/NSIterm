{
 "cells": [
  {
   "cell_type": "code",
   "execution_count": 1,
   "metadata": {
    "hide_input": true,
    "hide_output": true,
    "init_cell": true,
    "run_control": {
     "marked": false
    }
   },
   "outputs": [
    {
     "ename": "ModuleNotFoundError",
     "evalue": "No module named 'masquer'",
     "output_type": "error",
     "traceback": [
      "\u001b[0;31m---------------------------------------------------------------------------\u001b[0m",
      "\u001b[0;31mModuleNotFoundError\u001b[0m                       Traceback (most recent call last)",
      "\u001b[0;32m<ipython-input-1-7894d36b3d29>\u001b[0m in \u001b[0;36m<module>\u001b[0;34m\u001b[0m\n\u001b[1;32m      1\u001b[0m \u001b[0;31m# Permet de tout executer au lancement du notebook + conserver le notebook actif pendant 2h\u001b[0m\u001b[0;34m\u001b[0m\u001b[0;34m\u001b[0m\u001b[0;34m\u001b[0m\u001b[0m\n\u001b[1;32m      2\u001b[0m \u001b[0;32mfrom\u001b[0m \u001b[0mIPython\u001b[0m\u001b[0;34m.\u001b[0m\u001b[0mdisplay\u001b[0m \u001b[0;32mimport\u001b[0m \u001b[0mJavascript\u001b[0m\u001b[0;34m\u001b[0m\u001b[0;34m\u001b[0m\u001b[0m\n\u001b[0;32m----> 3\u001b[0;31m \u001b[0;32mfrom\u001b[0m \u001b[0mmasquer\u001b[0m \u001b[0;32mimport\u001b[0m \u001b[0;34m*\u001b[0m\u001b[0;34m\u001b[0m\u001b[0;34m\u001b[0m\u001b[0m\n\u001b[0m\u001b[1;32m      4\u001b[0m Javascript(\"\"\"\n\u001b[1;32m      5\u001b[0m function repeter(){\n",
      "\u001b[0;31mModuleNotFoundError\u001b[0m: No module named 'masquer'"
     ]
    }
   ],
   "source": [
    "# Permet de tout executer au lancement du notebook + conserver le notebook actif pendant 2h\n",
    "from IPython.display import Javascript\n",
    "from masquer import *\n",
    "Javascript(\"\"\"\n",
    "function repeter(){\n",
    "IPython.notebook.kernel.execute(\"a=1\");\n",
    "}\n",
    "// execute a = 1 en python toutes les 8 minutes pendant 2h\n",
    "let timerId = setInterval(() => repeter(), 4800);\n",
    "setTimeout(() => { clearInterval(timerId); alert('fin de cession'); }, 7200000);\n",
    "\n",
    "// Supprimer la taille limite pour la sortie d'une cellule\n",
    "IPython.OutputArea.prototype._should_scroll = function(lines) {\n",
    "    return false;\n",
    "};\n",
    "IPython.notebook.kernel.execute(\"url = '\" + window.location + \"'\");\n",
    "\n",
    "// Exécuter toutes les cellule du notebook\n",
    "    require(\n",
    "        ['base/js/namespace', 'jquery'], \n",
    "        function(jupyter, $) {\n",
    "            \n",
    "                \n",
    "                jupyter.actions.call('jupyter-notebook:run-all-cells-below');\n",
    "                jupyter.actions.call('jupyter-notebook:save-notebook');\n",
    "                Jupyter.actions.call('jupyter-notebook:hide-header')\n",
    "\n",
    "        }\n",
    "    );\"\"\")"
   ]
  },
  {
   "cell_type": "code",
   "execution_count": 3,
   "metadata": {
    "hide_input": true,
    "hide_output": true,
    "run_control": {
     "marked": false
    }
   },
   "outputs": [
    {
     "data": {
      "text/html": [
       "<style>\n",
       "h1 {\n",
       "  font-family: 'Permanent Marker', cursive;\n",
       "  text-align: center;\n",
       "  color: red;\n",
       "  \n",
       "}\n",
       "ol {\n",
       "  list-style-position: inside;\n",
       "  margin-left: 1em;\n",
       "  list-style-position: outside;\n",
       "}\n",
       "h2 {\n",
       "  font-family: 'Permanent Marker', cursive;\n",
       "  color: blue;\n",
       "}\n",
       "h3 {\n",
       "  font-family: 'Permanent Marker', cursive;\n",
       "\n",
       "}\n",
       "</style>"
      ],
      "text/plain": [
       "<IPython.core.display.HTML object>"
      ]
     },
     "execution_count": 3,
     "metadata": {},
     "output_type": "execute_result"
    }
   ],
   "source": [
    "from IPython.core.interactiveshell import InteractiveShell\n",
    "InteractiveShell.ast_node_interactivity = \"all\"\n",
    "HTML(\"\"\"<style>\n",
    "h1 {\n",
    "  font-family: 'Permanent Marker', cursive;\n",
    "  text-align: center;\n",
    "  color: red;\n",
    "  \n",
    "}\n",
    "ol {\n",
    "  list-style-position: inside;\n",
    "  margin-left: 1em;\n",
    "  list-style-position: outside;\n",
    "}\n",
    "h2 {\n",
    "  font-family: 'Permanent Marker', cursive;\n",
    "  color: blue;\n",
    "}\n",
    "h3 {\n",
    "  font-family: 'Permanent Marker', cursive;\n",
    "\n",
    "}\n",
    "</style>\"\"\")"
   ]
  },
  {
   "cell_type": "markdown",
   "metadata": {},
   "source": [
    "# <span style=\"color:red;\"><center>TD_03_2 - RSA 1/2 mise en place des outils</center></span>"
   ]
  },
  {
   "cell_type": "markdown",
   "metadata": {},
   "source": [
    "Le chiffrement RSA est nommé d'après les initiales de ses trois inventeurs Ronald Rivest, Adi Shamir et Leonard Adleman. C'est une méthode de chiffrement asymétrique inventée en 1977 et encore utilisée aujourd'hui pour le commerce électronique ou encore l'échange de données confidentielles sur internet.\n",
    "\n",
    "\n",
    "Le TD se découpe en deux parties, une première pour mettre en places les différents outils nécessaires puis une seconde sur l'algorithme RSA spécifiquement."
   ]
  },
  {
   "cell_type": "markdown",
   "metadata": {},
   "source": [
    "## Exercice 1. Exponentiation rapide modulaire"
   ]
  },
  {
   "cell_type": "markdown",
   "metadata": {},
   "source": [
    "1. Rappeler ici la fonction sur laquelle nous avons déjà travaillé qui prend trois arguments x, n et m et qui renvoie le résultat de $x^n (mod\\ m)$. Cette fonctionne devra être récursive (pour s'entrainer) et utiliser $x^0 = 1$ et $x^n = ((x^2\\ mod\\ m)^{n//2})\\ mod\\ m$ si n est pair et $x^n = ((x\\ mod\\ m) \\times (x^2\\ mod\\ m)^{n//2})\\ mod\\ m$ si n est impair."
   ]
  },
  {
   "cell_type": "code",
   "execution_count": 7,
   "metadata": {},
   "outputs": [],
   "source": [
    "# question 1.\n"
   ]
  },
  {
   "cell_type": "markdown",
   "metadata": {
    "run_control": {
     "marked": false
    }
   },
   "source": [
    "## Exercice 2. Décomposer un texte en une liste de valeurs"
   ]
  },
  {
   "cell_type": "markdown",
   "metadata": {},
   "source": [
    "Nous avons déjà travaillé sur les fonctions **chr** et **ord** \n",
    "\n",
    "\n",
    "On souhaite décomposer un texte sous forme d’une liste de valeurs numériques sur lesquelles travailler. On utilisera les valeurs de la table ASCII accessibles grâce à la fonction python ord(car) qui prend un seul caractère comme paramètre.\n",
    "\n",
    "1. Ecrire une fonction **code(texte)** qui prend en entrée une chaine de caractères texte et qui renvoie une liste correspondant à la valeur de chaque caractère dans la table ASCII.\n",
    "       \n",
    "2. Ecrire une fonction **decode(tab)** qui effectue l’opération inverse. On pourra utiliser la fonction python chr(i) qui prend comme paramètre un entier et effectue l’opération inverse de ord(car).\n",
    "       \n",
    "3. Tester les fonctions obtenues à l’aide de phrases de votre choix"
   ]
  },
  {
   "cell_type": "code",
   "execution_count": 5,
   "metadata": {},
   "outputs": [],
   "source": [
    "# Question 1.\n"
   ]
  },
  {
   "cell_type": "code",
   "execution_count": 6,
   "metadata": {},
   "outputs": [],
   "source": [
    "# Question 2.\n"
   ]
  },
  {
   "cell_type": "code",
   "execution_count": 2,
   "metadata": {},
   "outputs": [],
   "source": [
    "# Question 3.\n"
   ]
  },
  {
   "cell_type": "markdown",
   "metadata": {},
   "source": [
    "## Exercice 3. Découpage du texte par blocs"
   ]
  },
  {
   "cell_type": "markdown",
   "metadata": {},
   "source": [
    "Pour éviter une attaque statistique, il faut découper le message original en blocs. Ici, on se limites aux caractères de la table ASCII, chaque caractère se code donc sur trois chiffres (le caractère 65 sera donc codé 065). On collera ensuite tous les chiffres obtenus dans l’ordre puis on découpera par blocs de taille fixée (4 par exemple). On comblera le dernier bloc en ajoutant des 0.\n",
    "\n",
    "exemple:\n",
    "« Bonjour » donnerait [66,111,110,106,111,117,114]\n",
    "en rajoutant les zéros pour coder chaque caractère sur trois chiffres [066, 111, 110, 106, 111, 117, 114]\n",
    "puis on regroupe tout 066111110106111117114\n",
    "Enfin on découpe par blocs de 4 et on complète le dernier bloc par des 0. [0661, 1111, 0106, 1111, 1711, 4000].\n",
    "\n",
    "\n",
    "Il faudra passer par les chaines de caractères pour ne pas perdre les zéros en début de bloc. La liste finale renvoyée ne devra contenir que des entiers car nous réaliseront le chiffrement sur ces valeurs.\n",
    "\n",
    "1. Ecrire une fonction **trois** qui prend comme argument un caractère et qui renvoie une chaine de trois caractères (exactement) correspondants au codage sur trois chiffres du caractère de départ.\n",
    "\n",
    "2. Ecrire une fonction **regroupe** qui prend comme paramètre une chaine de caractères et qui renvoie la concaténation des différents blocs de 3 caractères obtenus.\n",
    "\n",
    "3. Ecrire une fonction **decoupe** qui prend en paramètre une chaine de caractères et un entier n et qui renvoie une liste de chaines de n caractères correspondant au découpage par blocs après codage ascii de chaque caractère. Elle devra aussi compléter le dernier bloc avec des 0.\n",
    "\n",
    "4. Proposer une fonction **valeurs** qui prend une chaine de caractères en entrée et qui renvoie la liste des entiers obtenus après découpage.\n",
    "\n",
    "5. Proposer une fonction **texte** qui effectue l’opération inverse (vous pouvez proposer toutes les fonctions intermédiaires de votre choix)"
   ]
  },
  {
   "cell_type": "code",
   "execution_count": null,
   "metadata": {},
   "outputs": [],
   "source": [
    "# Question 1.\n"
   ]
  },
  {
   "cell_type": "code",
   "execution_count": null,
   "metadata": {},
   "outputs": [],
   "source": [
    "# Question 2.\n"
   ]
  },
  {
   "cell_type": "code",
   "execution_count": null,
   "metadata": {},
   "outputs": [],
   "source": [
    "# Question 3.\n"
   ]
  },
  {
   "cell_type": "code",
   "execution_count": null,
   "metadata": {},
   "outputs": [],
   "source": [
    "# Question 4.\n"
   ]
  },
  {
   "cell_type": "code",
   "execution_count": null,
   "metadata": {},
   "outputs": [],
   "source": [
    "# Question 5.\n"
   ]
  },
  {
   "cell_type": "markdown",
   "metadata": {},
   "source": [
    "## Exercice 4. Euclide et PGCD"
   ]
  },
  {
   "cell_type": "markdown",
   "metadata": {},
   "source": [
    "1. Ecrire une fonction **choix_pq** qui renvoie deux nombres premiers choisis aléatoirement (parmi ceux générés au TD précédent par exemple).\n",
    "\n",
    "2. Ecrire une fonction **Euclide** qui prend comme arguments deux entiers a et b et qui renvoie le quotient et le reste de la division Euclidienne de a par b.\n",
    "\n",
    "3. Ecrire une fonction **PGCD** qui prend comme paramètres deux entiers a et b et qui renvoie leur PGCD (plus grand diviseur commun). Pour cela, on remarquera que PGCD(a, b) = PGCD(b, a%b)\n",
    "\n",
    "4. Ecrire une fonction **Bezout** qui prend comme paramètres deux entiers a et b et qui renvoie les coefficients de l’égalité de Bézout c’est à dire un couple (u, v) tel que a*u + b*v = PGCD(a,b). Cette fonction peut aussi renvoyer le PGCD(a,b)\n",
    "Pour cela on initialise u1 à 1, v1 à 0, u2 à 0 et v2 à 1\n",
    "Puis on réalise la boucle :\n",
    "  Soit q et r le quotient et le reste de la division euclidienne de a par b, on a donc:\n",
    "  \n",
    "  \n",
    "  $a = q \\times b + r$ soit $u_1 \\times a + v_1 \\times b = q \\times (u_2 \\times a + v2 \\times b) + r$ et donc $(u_1 - q \\times u_2) \\times a + (v_1 - q \\times v_2) \\times b = r$\n",
    "  \n",
    "  \n",
    "On va ensuite calculer le quotient et le reste de la division euclidienne de $(u_2 \\times a + v_2 \\times b)$ par r et ainsi de suite jusqu’à obtenir un reste nul.\n",
    "\n",
    "Le dernier reste non nul obtenu est le PGCD(a,b), et les derniers coefficients $u_1 - q \\times u_2$ et $v_1 - q \\times v_2$ sont les deux coefficients de l’égalité de Bézout recherchés."
   ]
  },
  {
   "cell_type": "code",
   "execution_count": null,
   "metadata": {},
   "outputs": [],
   "source": [
    "# Question 1.\n"
   ]
  },
  {
   "cell_type": "code",
   "execution_count": null,
   "metadata": {},
   "outputs": [],
   "source": [
    "# Question 2.\n"
   ]
  },
  {
   "cell_type": "code",
   "execution_count": null,
   "metadata": {},
   "outputs": [],
   "source": [
    "# Question 3.\n"
   ]
  },
  {
   "cell_type": "code",
   "execution_count": null,
   "metadata": {},
   "outputs": [],
   "source": [
    "# Question 4.\n"
   ]
  },
  {
   "cell_type": "markdown",
   "metadata": {},
   "source": [
    "Tous les outils sont maintenant prêts, nous allons pouvoir commencer à explorer l'algorithme RSA!"
   ]
  }
 ],
 "metadata": {
  "celltoolbar": "none",
  "kernelspec": {
   "display_name": "Python 3",
   "language": "python",
   "name": "python3"
  },
  "language_info": {
   "codemirror_mode": {
    "name": "ipython",
    "version": 3
   },
   "file_extension": ".py",
   "mimetype": "text/x-python",
   "name": "python",
   "nbconvert_exporter": "python",
   "pygments_lexer": "ipython3",
   "version": "3.7.8"
  },
  "varInspector": {
   "cols": {
    "lenName": 16,
    "lenType": 16,
    "lenVar": 40
   },
   "kernels_config": {
    "python": {
     "delete_cmd_postfix": "",
     "delete_cmd_prefix": "del ",
     "library": "var_list.py",
     "varRefreshCmd": "print(var_dic_list())"
    },
    "r": {
     "delete_cmd_postfix": ") ",
     "delete_cmd_prefix": "rm(",
     "library": "var_list.r",
     "varRefreshCmd": "cat(var_dic_list()) "
    }
   },
   "types_to_exclude": [
    "module",
    "function",
    "builtin_function_or_method",
    "instance",
    "_Feature"
   ],
   "window_display": false
  }
 },
 "nbformat": 4,
 "nbformat_minor": 4
}
