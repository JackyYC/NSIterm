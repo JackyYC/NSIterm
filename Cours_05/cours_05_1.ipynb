{
 "cells": [
  {
   "cell_type": "code",
   "execution_count": null,
   "metadata": {
    "hide_input": true,
    "hide_output": true,
    "init_cell": true,
    "run_control": {
     "marked": false
    }
   },
   "outputs": [],
   "source": [
    "# Permet de tout executer au lancement du notebook + conserver le notebook actif pendant 2h\n",
    "from IPython.display import Javascript\n",
    "from masquer import *\n",
    "Javascript(\"\"\"\n",
    "function repeter(){\n",
    "IPython.notebook.kernel.execute(\"a=1\");\n",
    "}\n",
    "// execute a = 1 en python toutes les 8 minutes pendant 2h\n",
    "let timerId = setInterval(() => repeter(), 4800);\n",
    "setTimeout(() => { clearInterval(timerId); alert('fin de cession'); }, 7200000);\n",
    "\n",
    "// Supprimer la taille limite pour la sortie d'une cellule\n",
    "IPython.OutputArea.prototype._should_scroll = function(lines) {\n",
    "    return false;\n",
    "};\n",
    "IPython.notebook.kernel.execute(\"url = '\" + window.location + \"'\");\n",
    "\n",
    "// Exécuter toutes les cellule du notebook\n",
    "    require(\n",
    "        ['base/js/namespace', 'jquery'], \n",
    "        function(jupyter, $) {\n",
    "            \n",
    "                \n",
    "                jupyter.actions.call('jupyter-notebook:run-all-cells-below');\n",
    "                jupyter.actions.call('jupyter-notebook:save-notebook');\n",
    "                Jupyter.actions.call('jupyter-notebook:hide-header')\n",
    "\n",
    "        }\n",
    "    );\"\"\")"
   ]
  },
  {
   "cell_type": "code",
   "execution_count": 3,
   "metadata": {
    "hide_input": true,
    "hide_output": true,
    "run_control": {
     "marked": false
    }
   },
   "outputs": [
    {
     "data": {
      "text/html": [
       "<style>\n",
       "h1 {\n",
       "  font-family: 'Permanent Marker', cursive;\n",
       "  text-align: center;\n",
       "  color: red;\n",
       "  \n",
       "}\n",
       "ol {\n",
       "  list-style-position: inside;\n",
       "  margin-left: 1em;\n",
       "  list-style-position: outside;\n",
       "}\n",
       "h2 {\n",
       "  font-family: 'Permanent Marker', cursive;\n",
       "  color: blue;\n",
       "}\n",
       "h3 {\n",
       "  font-family: 'Permanent Marker', cursive;\n",
       "\n",
       "}\n",
       "</style>"
      ],
      "text/plain": [
       "<IPython.core.display.HTML object>"
      ]
     },
     "execution_count": 3,
     "metadata": {},
     "output_type": "execute_result"
    }
   ],
   "source": [
    "from IPython.core.interactiveshell import InteractiveShell\n",
    "InteractiveShell.ast_node_interactivity = \"all\"\n",
    "HTML(\"\"\"<style>\n",
    "h1 {\n",
    "  font-family: 'Permanent Marker', cursive;\n",
    "  text-align: center;\n",
    "  color: red;\n",
    "  \n",
    "}\n",
    "ol {\n",
    "  list-style-position: inside;\n",
    "  margin-left: 1em;\n",
    "  list-style-position: outside;\n",
    "}\n",
    "h2 {\n",
    "  font-family: 'Permanent Marker', cursive;\n",
    "  color: blue;\n",
    "}\n",
    "h3 {\n",
    "  font-family: 'Permanent Marker', cursive;\n",
    "\n",
    "}\n",
    "</style>\"\"\")"
   ]
  },
  {
   "cell_type": "markdown",
   "metadata": {
    "run_control": {
     "marked": false
    }
   },
   "source": [
    "# CHAPITRE 4 - Diviser pour régner"
   ]
  },
  {
   "cell_type": "markdown",
   "metadata": {},
   "source": [
    "## I. Principe"
   ]
  },
  {
   "cell_type": "markdown",
   "metadata": {},
   "source": [
    "La stratégie \"diviser pour régner\" consiste à découper le problème à résoudre en problèmes plus petits jusqu'à ce qu'ils soient faciles à résoudre. On termine ensuite en combinant les solutions de ces sous-problèmes pour obtenir la solution du problème initial."
   ]
  },
  {
   "cell_type": "markdown",
   "metadata": {},
   "source": [
    "### Activité à réaliser\n",
    "1. Citer deux algorithmes de tri basés sur la stratégie **diviser pour régner**\n",
    "2. La recherche dichotomique dans une liste triée est aussi un algorithme basé sur cette méthode. Expliquer pourquoi."
   ]
  },
  {
   "cell_type": "markdown",
   "metadata": {},
   "source": []
  },
  {
   "cell_type": "markdown",
   "metadata": {},
   "source": []
  },
  {
   "cell_type": "markdown",
   "metadata": {},
   "source": [
    "On va appliquer cette recherche dichotomique à la résolution d'une équation mathématique. On considère la fonction qui à t associe $2,5 \\times cos(2 \\pi f t + \\pi / 4)$ avec f = 1000 Hz.\n",
    "3. Ecrire une fonction **f** qui prend comme argument un float t et qui renvoie la valeur de cette fonction\n",
    "4. Tracer cette fonction au cours du temps sur le segment [0., 0.002]\n",
    "5. Calculer la valeur de la fonction en 0. s et en 0.0005 s."
   ]
  },
  {
   "cell_type": "code",
   "execution_count": null,
   "metadata": {},
   "outputs": [],
   "source": []
  },
  {
   "cell_type": "code",
   "execution_count": null,
   "metadata": {},
   "outputs": [],
   "source": []
  },
  {
   "cell_type": "code",
   "execution_count": null,
   "metadata": {},
   "outputs": [],
   "source": []
  },
  {
   "cell_type": "markdown",
   "metadata": {},
   "source": [
    "La recherche de zéros de fonctions par la méthode dichotomique est utilisable sur les fonctions continues dès lors que l'on dispose de valeurs de x pour lesquelles la fonction prend des valeurs positives et négatives.\n",
    "\n",
    "Supposons que l'on dispose de $x_1$ et $x_2$ de type floats tels que $f(x_1) > 0$ et $f(x_2) < 0$ (l'inverse marcherait aussi). \n",
    "Il suffit alors de considérer $x_3 = \\frac{x_1 + x_2}{2}$ pour diviser la taille de l'intervalle de recherche du zéro par 2 en fonction du signe de $f(x_3)$.\n",
    "\n",
    "6. Proposer une implémentation de cet algorithme en utilisant un float epsilon permettant de choisir la précision sur x souhaitée.\n",
    "7. Utilisez votre fonction sur la recherche d'un zéro de f et comparer à ce que done le graphique.\n",
    "\n",
    "8. Utilisez cette méthode afin de calculer arcsin(0.25) on se limitera à une recherche sur l'intervalle $[-\\pi/2, \\pi/2]$"
   ]
  },
  {
   "cell_type": "code",
   "execution_count": null,
   "metadata": {},
   "outputs": [],
   "source": []
  },
  {
   "cell_type": "code",
   "execution_count": null,
   "metadata": {},
   "outputs": [],
   "source": []
  },
  {
   "cell_type": "code",
   "execution_count": null,
   "metadata": {},
   "outputs": [],
   "source": []
  },
  {
   "cell_type": "markdown",
   "metadata": {},
   "source": [
    "L'algorithme de **Karatsuba** utilise cette approche afin de réaliser la multiplication de grands nombres entiers de manière efficace."
   ]
  },
  {
   "cell_type": "markdown",
   "metadata": {},
   "source": [
    "9. Combien de multiplications sont nécessaires pour calculer à la main $1234 \\times 5678$ ?\n",
    "\n",
    "\n",
    "L'algorithme de Karatsuba propose de décomposer en $1234 = 12 \\cdot 10^{2} + 34$ et $5678 = 56 \\cdot 10^{2} + 78$.\n",
    "\n",
    "La multiplication s'écrit donc $(12\\times 56)\\cdot 10^4 + (12\\times 78 + 56\\times 34) \\cdot 10^2 + (34\\times 78)$.\n",
    "\n",
    "Le gain en complexité est réaliser en limitant le nombre de multiplications à réaliser en transformant cette expression en $(12\\times 56)\\cdot 10^4 + (12\\times 56 + 34\\times 78 - (12-34)\\times(56-78)) \\cdot 10^2 + (34\\times 78)$ pour laquelle on réalise 3 multiplications au lieu de 4 car $12 \\times 56$ et $34\\times 78$ n'ont besoin d'être calculées qu'une seule fois.\n",
    "\n",
    "On applique ensuite la même démarche pour calculer chacun des produits:\n",
    "$12\\times 56 = (1 \\times 5)\\cdot 10^2 + (1\\times 5 + 2\\times 6 - (1-2)\\times(5-6))\\cdot 10^1 + 2\\times 6 = 500 + 160 + 12 = 672$\n",
    "\n",
    "10. Combien de multiplications sont alors réalisées pour obtenir le résultat de $1234 \\times 5678$ par cet algorithme ?\n",
    "\n",
    "11. Proposer une implémentation de cette méthode."
   ]
  },
  {
   "cell_type": "markdown",
   "metadata": {},
   "source": []
  },
  {
   "cell_type": "markdown",
   "metadata": {},
   "source": []
  },
  {
   "cell_type": "code",
   "execution_count": null,
   "metadata": {},
   "outputs": [],
   "source": []
  },
  {
   "cell_type": "markdown",
   "metadata": {},
   "source": [
    "12. Rappeler le programme permettant de donner une soltuion au problème de la tour de Hanoï (essayez de le réécrire vous même si possible). En quoi s'agit-il d'un algorithme qui exploite la stratégie **diviser pour régner** ?"
   ]
  },
  {
   "cell_type": "code",
   "execution_count": null,
   "metadata": {},
   "outputs": [],
   "source": []
  },
  {
   "cell_type": "markdown",
   "metadata": {},
   "source": []
  }
 ],
 "metadata": {
  "celltoolbar": "None",
  "kernelspec": {
   "display_name": "Python 3",
   "language": "python",
   "name": "python3"
  },
  "language_info": {
   "codemirror_mode": {
    "name": "ipython",
    "version": 3
   },
   "file_extension": ".py",
   "mimetype": "text/x-python",
   "name": "python",
   "nbconvert_exporter": "python",
   "pygments_lexer": "ipython3",
   "version": "3.7.8"
  },
  "varInspector": {
   "cols": {
    "lenName": 16,
    "lenType": 16,
    "lenVar": 40
   },
   "kernels_config": {
    "python": {
     "delete_cmd_postfix": "",
     "delete_cmd_prefix": "del ",
     "library": "var_list.py",
     "varRefreshCmd": "print(var_dic_list())"
    },
    "r": {
     "delete_cmd_postfix": ") ",
     "delete_cmd_prefix": "rm(",
     "library": "var_list.r",
     "varRefreshCmd": "cat(var_dic_list()) "
    }
   },
   "types_to_exclude": [
    "module",
    "function",
    "builtin_function_or_method",
    "instance",
    "_Feature"
   ],
   "window_display": false
  }
 },
 "nbformat": 4,
 "nbformat_minor": 4
}
