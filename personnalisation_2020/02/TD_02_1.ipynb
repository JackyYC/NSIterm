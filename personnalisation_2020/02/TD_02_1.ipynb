{
 "cells": [
  {
   "cell_type": "code",
   "execution_count": 1,
   "metadata": {
    "hide_input": true,
    "hide_output": true,
    "init_cell": true,
    "run_control": {
     "marked": false
    }
   },
   "outputs": [
    {
     "ename": "ModuleNotFoundError",
     "evalue": "No module named 'masquer'",
     "output_type": "error",
     "traceback": [
      "\u001b[0;31m---------------------------------------------------------------------------\u001b[0m",
      "\u001b[0;31mModuleNotFoundError\u001b[0m                       Traceback (most recent call last)",
      "\u001b[0;32m<ipython-input-1-7894d36b3d29>\u001b[0m in \u001b[0;36m<module>\u001b[0;34m\u001b[0m\n\u001b[1;32m      1\u001b[0m \u001b[0;31m# Permet de tout executer au lancement du notebook + conserver le notebook actif pendant 2h\u001b[0m\u001b[0;34m\u001b[0m\u001b[0;34m\u001b[0m\u001b[0;34m\u001b[0m\u001b[0m\n\u001b[1;32m      2\u001b[0m \u001b[0;32mfrom\u001b[0m \u001b[0mIPython\u001b[0m\u001b[0;34m.\u001b[0m\u001b[0mdisplay\u001b[0m \u001b[0;32mimport\u001b[0m \u001b[0mJavascript\u001b[0m\u001b[0;34m\u001b[0m\u001b[0;34m\u001b[0m\u001b[0m\n\u001b[0;32m----> 3\u001b[0;31m \u001b[0;32mfrom\u001b[0m \u001b[0mmasquer\u001b[0m \u001b[0;32mimport\u001b[0m \u001b[0;34m*\u001b[0m\u001b[0;34m\u001b[0m\u001b[0;34m\u001b[0m\u001b[0m\n\u001b[0m\u001b[1;32m      4\u001b[0m Javascript(\"\"\"\n\u001b[1;32m      5\u001b[0m function repeter(){\n",
      "\u001b[0;31mModuleNotFoundError\u001b[0m: No module named 'masquer'"
     ]
    }
   ],
   "source": [
    "# Permet de tout executer au lancement du notebook + conserver le notebook actif pendant 2h\n",
    "from IPython.display import Javascript\n",
    "from masquer import *\n",
    "Javascript(\"\"\"\n",
    "function repeter(){\n",
    "IPython.notebook.kernel.execute(\"a=1\");\n",
    "}\n",
    "// execute a = 1 en python toutes les 8 minutes pendant 2h\n",
    "let timerId = setInterval(() => repeter(), 4800);\n",
    "setTimeout(() => { clearInterval(timerId); alert('fin de cession'); }, 7200000);\n",
    "\n",
    "// Supprimer la taille limite pour la sortie d'une cellule\n",
    "IPython.OutputArea.prototype._should_scroll = function(lines) {\n",
    "    return false;\n",
    "};\n",
    "IPython.notebook.kernel.execute(\"url = '\" + window.location + \"'\");\n",
    "\n",
    "// Exécuter toutes les cellule du notebook\n",
    "    require(\n",
    "        ['base/js/namespace', 'jquery'], \n",
    "        function(jupyter, $) {\n",
    "            \n",
    "                \n",
    "                jupyter.actions.call('jupyter-notebook:run-all-cells-below');\n",
    "                jupyter.actions.call('jupyter-notebook:save-notebook');\n",
    "                Jupyter.actions.call('jupyter-notebook:hide-header')\n",
    "\n",
    "        }\n",
    "    );\"\"\")"
   ]
  },
  {
   "cell_type": "code",
   "execution_count": null,
   "metadata": {
    "hide_input": true,
    "hide_output": true,
    "run_control": {
     "marked": false
    }
   },
   "outputs": [],
   "source": [
    "from IPython.core.interactiveshell import InteractiveShell\n",
    "InteractiveShell.ast_node_interactivity = \"all\"\n",
    "HTML(\"\"\"<style>\n",
    "h1 {\n",
    "  font-family: 'Permanent Marker', cursive;\n",
    "  text-align: center;\n",
    "  color: red;\n",
    "  \n",
    "}\n",
    "ol {\n",
    "  list-style-position: inside;\n",
    "  margin-left: 1em;\n",
    "  list-style-position: outside;\n",
    "}\n",
    "h2 {\n",
    "  font-family: 'Permanent Marker', cursive;\n",
    "  color: blue;\n",
    "}\n",
    "</style>\"\"\")"
   ]
  },
  {
   "cell_type": "markdown",
   "metadata": {},
   "source": [
    "# TD_02_1 : Récursivité et fractales"
   ]
  },
  {
   "cell_type": "markdown",
   "metadata": {},
   "source": [
    "## Rq:\n",
    "Manque de commentaires et de docstrings (surtout sur les fonctions de correction) qui permettent de relire le fichier pour révision pour le contrôle ou pour le bac.\n",
    "\n",
    "\n",
    "Corrections mal notées (contenant des erreurs) et même pas testées!! \n",
    "\n",
    "Vos fonctions et les fonctions de correction doivent apparaître dans des cellules différents dans votre fichier.\n",
    "A deux, c'est beaucoup trop juste."
   ]
  },
  {
   "cell_type": "markdown",
   "metadata": {},
   "source": [
    "## Exercice 1"
   ]
  },
  {
   "cell_type": "markdown",
   "metadata": {},
   "source": [
    "Le but va être de tracer un flocon de KOCH en utilisant la bibliothèque turtle et une fonction récursive.\n",
    "Le principe est de partir d'un triangle équilatéral et ensuite à chaque génération, découper chaque segemnt en trois et remplacer le segment du milieu par les deux côtés restants d'un triangle équilatéral. Ce n'est pas très clair ? Regardez la petite animation ci-dessous qui vous montrera ce qui est attendu sur chaque segment"
   ]
  },
  {
   "cell_type": "code",
   "execution_count": null,
   "metadata": {
    "hide_input": true,
    "run_control": {
     "marked": false
    }
   },
   "outputs": [],
   "source": [
    "from IPython.display import IFrame\n",
    "\n",
    "IFrame(\"https://www.youtube.com/embed/MTYW4Re_RsY\",width=\"560\",height=\"315\")"
   ]
  },
  {
   "cell_type": "markdown",
   "metadata": {},
   "source": [
    "Et voici ce que cela donne sous forme de Flocon:\n",
    "![](img/Von_Koch_curve.gif)"
   ]
  },
  {
   "cell_type": "markdown",
   "metadata": {},
   "source": [
    "Un petit exemple d'utilisation de turtle:"
   ]
  },
  {
   "cell_type": "code",
   "execution_count": null,
   "metadata": {
    "run_control": {
     "marked": false
    }
   },
   "outputs": [],
   "source": [
    "from ipyturtle import *"
   ]
  },
  {
   "cell_type": "code",
   "execution_count": null,
   "metadata": {
    "run_control": {
     "marked": false
    }
   },
   "outputs": [],
   "source": [
    "# On initialise l'espace de tracé et sa taille et on l'affiche\n",
    "T = Turtle(500,500,False)\n",
    "T"
   ]
  },
  {
   "cell_type": "code",
   "execution_count": null,
   "metadata": {
    "run_control": {
     "marked": true
    }
   },
   "outputs": [],
   "source": [
    "# On remet à zéro l'image et on trace un carré\n",
    "T.reset()\n",
    "for i in range(4):\n",
    "    T.forward(100)\n",
    "    T.right(90)"
   ]
  },
  {
   "cell_type": "markdown",
   "metadata": {},
   "source": [
    "1. Construire une fonction récursive **polygone** qui prend comme argument la taille **t** d'un côté et le nombre **n** de côtés du polygone régulier.\n",
    "2. Construire la fonction **Koch** décrite. Si besoins, suivez le sindications données au tableau."
   ]
  },
  {
   "cell_type": "code",
   "execution_count": 2,
   "metadata": {
    "run_control": {
     "marked": false
    }
   },
   "outputs": [
    {
     "ename": "ModuleNotFoundError",
     "evalue": "No module named 'ipyturtle'",
     "output_type": "error",
     "traceback": [
      "\u001b[0;31m---------------------------------------------------------------------------\u001b[0m",
      "\u001b[0;31mModuleNotFoundError\u001b[0m                       Traceback (most recent call last)",
      "\u001b[0;32m<ipython-input-2-bbb7905a12f1>\u001b[0m in \u001b[0;36m<module>\u001b[0;34m\u001b[0m\n\u001b[1;32m      1\u001b[0m \u001b[0;31m# Question 1.\u001b[0m\u001b[0;34m\u001b[0m\u001b[0;34m\u001b[0m\u001b[0;34m\u001b[0m\u001b[0m\n\u001b[0;32m----> 2\u001b[0;31m \u001b[0;32mfrom\u001b[0m \u001b[0mipyturtle\u001b[0m \u001b[0;32mimport\u001b[0m \u001b[0;34m*\u001b[0m\u001b[0;34m\u001b[0m\u001b[0;34m\u001b[0m\u001b[0m\n\u001b[0m\u001b[1;32m      3\u001b[0m \u001b[0;34m\u001b[0m\u001b[0m\n\u001b[1;32m      4\u001b[0m \u001b[0;32mdef\u001b[0m \u001b[0mpolygone\u001b[0m\u001b[0;34m(\u001b[0m\u001b[0mt\u001b[0m\u001b[0;34m,\u001b[0m\u001b[0mn\u001b[0m\u001b[0;34m)\u001b[0m\u001b[0;34m:\u001b[0m\u001b[0;34m\u001b[0m\u001b[0;34m\u001b[0m\u001b[0m\n\u001b[1;32m      5\u001b[0m     \u001b[0;32mglobal\u001b[0m \u001b[0mT\u001b[0m\u001b[0;34m\u001b[0m\u001b[0;34m\u001b[0m\u001b[0m\n",
      "\u001b[0;31mModuleNotFoundError\u001b[0m: No module named 'ipyturtle'"
     ]
    }
   ],
   "source": [
    "# Question 1.\n",
    "from ipyturtle import *\n",
    "\n",
    "def polygone(t,n): # Commentaires ? Docstring ?\n",
    "    global T\n",
    "    T.reset()\n",
    "    for i in range(n):\n",
    "        T.forward(t)\n",
    "        T.right(360/n)\n",
    "polygone(100,50)"
   ]
  },
  {
   "cell_type": "code",
   "execution_count": null,
   "metadata": {
    "run_control": {
     "marked": false
    }
   },
   "outputs": [],
   "source": [
    "# Question 2.\n",
    "from ipyturtle import *\n",
    "def Koch(t,n,T):\n",
    "\n",
    "    T.reset() # Surtout pas! Sinon il ne vous trace que le dernier trait\n",
    "              # se remet à zéro à chaque appel!\n",
    "    if n==0:\n",
    "        for i in range(3): # inutile, condition d'arrêt avec tortue qui ne fait rien fonctionne parfaitement\n",
    "            T.forward(t)\n",
    "            T.left(120)\n",
    "    else:\n",
    "\n",
    "\n",
    "        for i in range(3):\n",
    "            Koch(t//3,n-1,T)\n",
    "\n",
    "            for g in range(3): # intérêt ? sans commentaire, je ne comprends pas ce que vous vouliez faire ici\n",
    "                               # L'angle n'est pas bon\n",
    "                               # le nombre de segments non plus (3x3)\n",
    "                T.forward(t)\n",
    "                T.left(60)\n",
    "        T.left(120) # mauvaise indentation\n",
    "Koch(100,3,T)"
   ]
  },
  {
   "cell_type": "code",
   "execution_count": null,
   "metadata": {},
   "outputs": [],
   "source": [
    "from ipyturtle import *\n",
    "def test(t,n):\n",
    "    global T\n",
    "    T.reset()\n",
    "    a=t\n",
    "    m=n\n",
    "    if n==0:\n",
    "\n",
    "            T.forward(t)\n",
    "\n",
    "    else:\n",
    "        #for i in range(3):\n",
    "        test(n-1,t//3)\n",
    "        T.left(60)\n",
    "        test(n-1,t//3)\n",
    "        T.right(120)\n",
    "        test(n-1,t//3)\n",
    "        T.left(60)\n",
    "        test(n-1,t//3)\n",
    "\n",
    "test(100,3)"
   ]
  },
  {
   "cell_type": "code",
   "execution_count": 4,
   "metadata": {},
   "outputs": [
    {
     "ename": "NameError",
     "evalue": "name 'T' is not defined",
     "output_type": "error",
     "traceback": [
      "\u001b[0;31m---------------------------------------------------------------------------\u001b[0m",
      "\u001b[0;31mNameError\u001b[0m                                 Traceback (most recent call last)",
      "\u001b[0;32m<ipython-input-4-7b3347d75b2f>\u001b[0m in \u001b[0;36m<module>\u001b[0;34m\u001b[0m\n\u001b[1;32m     17\u001b[0m \u001b[0;34m\u001b[0m\u001b[0m\n\u001b[1;32m     18\u001b[0m \u001b[0;34m\u001b[0m\u001b[0m\n\u001b[0;32m---> 19\u001b[0;31m \u001b[0mT\u001b[0m\u001b[0;34m.\u001b[0m\u001b[0mreset\u001b[0m\u001b[0;34m(\u001b[0m\u001b[0;34m)\u001b[0m\u001b[0;34m\u001b[0m\u001b[0;34m\u001b[0m\u001b[0m\n\u001b[0m\u001b[1;32m     20\u001b[0m \u001b[0mtest\u001b[0m\u001b[0;34m(\u001b[0m\u001b[0;36m3\u001b[0m\u001b[0;34m,\u001b[0m\u001b[0;36m200\u001b[0m\u001b[0;34m)\u001b[0m \u001b[0;31m# ou est le flocon ?\u001b[0m\u001b[0;34m\u001b[0m\u001b[0;34m\u001b[0m\u001b[0m\n",
      "\u001b[0;31mNameError\u001b[0m: name 'T' is not defined"
     ]
    }
   ],
   "source": [
    "def test(n,t):\n",
    "    global T\n",
    "    a=t # inutile car vous ne le modifiez pas (juste lecture)\n",
    "    m=n # idem\n",
    "    # de plus a et m ne sont pas utilisées dans le reste du code...\n",
    "    if n==0:\n",
    "        T.forward(t)\n",
    "    else:\n",
    "\n",
    "        test(n-1,t//3)\n",
    "        T.left(60)\n",
    "        test(n-1,t//3)\n",
    "        T.right(120)\n",
    "        test(n-1,t//3)\n",
    "        T.left(60)\n",
    "        test(n-1,t//3)\n",
    "\n",
    "\n",
    "T.reset()\n",
    "test(3,200) # ou est le flocon ?\n"
   ]
  },
  {
   "cell_type": "markdown",
   "metadata": {},
   "source": [
    "Les propriétés mathématiques de cette figure seront discutées lors de la correction au tableau."
   ]
  },
  {
   "cell_type": "markdown",
   "metadata": {},
   "source": [
    "## Exercice 2"
   ]
  },
  {
   "cell_type": "markdown",
   "metadata": {},
   "source": [
    "Nous allons maintenant travailler sur une autre fractale, le **triangle de Sierpinski**\n",
    "\n",
    "![](img/sierpinski.png)"
   ]
  },
  {
   "cell_type": "markdown",
   "metadata": {},
   "source": [
    "1. Construire une fonction récursive qui trace le triangle de sierpinski en utilisant la bibliothèque Turtle.\n"
   ]
  },
  {
   "cell_type": "code",
   "execution_count": null,
   "metadata": {},
   "outputs": [],
   "source": [
    "T2 = Turtle(500,500,False)\n",
    "T2"
   ]
  },
  {
   "cell_type": "code",
   "execution_count": null,
   "metadata": {
    "run_control": {
     "marked": false
    }
   },
   "outputs": [],
   "source": [
    "# Question 1.\n",
    "def skipin(n,t,T):\n",
    "    if n <= 0:\n",
    "        return\n",
    "    else:\n",
    "        for i in range(3):   \n",
    "            skipin(n-1,t//2,T)\n",
    "            T.forward(t)\n",
    "            T.right(120)\n",
    "T2.reset()\n",
    "T2.right(90)\n",
    "skipin(4,100,T2)\n",
    "        "
   ]
  },
  {
   "cell_type": "code",
   "execution_count": null,
   "metadata": {},
   "outputs": [],
   "source": []
  },
  {
   "cell_type": "markdown",
   "metadata": {},
   "source": [
    "## Exercice 3"
   ]
  },
  {
   "cell_type": "code",
   "execution_count": null,
   "metadata": {
    "hide_input": true,
    "run_control": {
     "marked": false
    }
   },
   "outputs": [],
   "source": [
    "from IPython.display import IFrame\n",
    "IFrame(\"https://www.youtube.com/embed/w_9P7icYh7Y\",560,315)"
   ]
  },
  {
   "cell_type": "markdown",
   "metadata": {},
   "source": [
    "Régardez la vidéo ci-dessus.\n",
    "1. Proposer une fonction **hanoi** récursive, qui prend comme argument le nombre **n** de disques et tout argument qui  vous paraîtra utile. Cette fonction doit renvoyer la liste des mouvements nécessaires pour résoudre le problème. Par exemple **hanoi(2)** doit renvoyer **[(1,2), (1,3), (2,3)]** c'est à dire déplacer le disque du dessus de la tour 1 vers la tour 2, puis faire de même de la tour 1 à la tour 3 et enfin de la tour 2 à la tour 3.\n"
   ]
  },
  {
   "cell_type": "code",
   "execution_count": null,
   "metadata": {
    "run_control": {
     "marked": false
    }
   },
   "outputs": [],
   "source": [
    "# Question 1.\n",
    "def hanoi(n,l=[],d=1,m=2,f=3):\n",
    "    if n==1:\n",
    "        l.append((d,f))\n",
    "        return l\n",
    "    else:\n",
    "        hanoi(n-1,l,m,d,f) # Pas de commentaire, correction mal prise, fonction non testée et fausse\n",
    "        l.append((d,f))\n",
    "        hanoi(n-1,l,m,d,f)\n",
    "    return l\n",
    "hanoi(3)"
   ]
  }
 ],
 "metadata": {
  "celltoolbar": "None",
  "kernelspec": {
   "display_name": "Python 3",
   "language": "python",
   "name": "python3"
  },
  "language_info": {
   "codemirror_mode": {
    "name": "ipython",
    "version": 3
   },
   "file_extension": ".py",
   "mimetype": "text/x-python",
   "name": "python",
   "nbconvert_exporter": "python",
   "pygments_lexer": "ipython3",
   "version": "3.8.6"
  },
  "varInspector": {
   "cols": {
    "lenName": 16,
    "lenType": 16,
    "lenVar": 40
   },
   "kernels_config": {
    "python": {
     "delete_cmd_postfix": "",
     "delete_cmd_prefix": "del ",
     "library": "var_list.py",
     "varRefreshCmd": "print(var_dic_list())"
    },
    "r": {
     "delete_cmd_postfix": ") ",
     "delete_cmd_prefix": "rm(",
     "library": "var_list.r",
     "varRefreshCmd": "cat(var_dic_list()) "
    }
   },
   "types_to_exclude": [
    "module",
    "function",
    "builtin_function_or_method",
    "instance",
    "_Feature"
   ],
   "window_display": false
  }
 },
 "nbformat": 4,
 "nbformat_minor": 4
}
