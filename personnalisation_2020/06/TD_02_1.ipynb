{
 "cells": [
  {
   "cell_type": "code",
   "execution_count": 1,
   "metadata": {
    "hide_input": true,
    "hide_output": true,
    "init_cell": true,
    "run_control": {
     "marked": false
    }
   },
   "outputs": [
    {
     "ename": "ModuleNotFoundError",
     "evalue": "No module named 'masquer'",
     "output_type": "error",
     "traceback": [
      "\u001b[0;31m---------------------------------------------------------------------------\u001b[0m",
      "\u001b[0;31mModuleNotFoundError\u001b[0m                       Traceback (most recent call last)",
      "\u001b[0;32m<ipython-input-1-7894d36b3d29>\u001b[0m in \u001b[0;36m<module>\u001b[0;34m\u001b[0m\n\u001b[1;32m      1\u001b[0m \u001b[0;31m# Permet de tout executer au lancement du notebook + conserver le notebook actif pendant 2h\u001b[0m\u001b[0;34m\u001b[0m\u001b[0;34m\u001b[0m\u001b[0;34m\u001b[0m\u001b[0m\n\u001b[1;32m      2\u001b[0m \u001b[0;32mfrom\u001b[0m \u001b[0mIPython\u001b[0m\u001b[0;34m.\u001b[0m\u001b[0mdisplay\u001b[0m \u001b[0;32mimport\u001b[0m \u001b[0mJavascript\u001b[0m\u001b[0;34m\u001b[0m\u001b[0;34m\u001b[0m\u001b[0m\n\u001b[0;32m----> 3\u001b[0;31m \u001b[0;32mfrom\u001b[0m \u001b[0mmasquer\u001b[0m \u001b[0;32mimport\u001b[0m \u001b[0;34m*\u001b[0m\u001b[0;34m\u001b[0m\u001b[0;34m\u001b[0m\u001b[0m\n\u001b[0m\u001b[1;32m      4\u001b[0m Javascript(\"\"\"\n\u001b[1;32m      5\u001b[0m function repeter(){\n",
      "\u001b[0;31mModuleNotFoundError\u001b[0m: No module named 'masquer'"
     ]
    }
   ],
   "source": [
    "# Permet de tout executer au lancement du notebook + conserver le notebook actif pendant 2h\n",
    "from IPython.display import Javascript\n",
    "from masquer import *\n",
    "Javascript(\"\"\"\n",
    "function repeter(){\n",
    "IPython.notebook.kernel.execute(\"a=1\");\n",
    "}\n",
    "// execute a = 1 en python toutes les 8 minutes pendant 2h\n",
    "let timerId = setInterval(() => repeter(), 4800);\n",
    "setTimeout(() => { clearInterval(timerId); alert('fin de cession'); }, 7200000);\n",
    "\n",
    "// Supprimer la taille limite pour la sortie d'une cellule\n",
    "IPython.OutputArea.prototype._should_scroll = function(lines) {\n",
    "    return false;\n",
    "};\n",
    "IPython.notebook.kernel.execute(\"url = '\" + window.location + \"'\");\n",
    "\n",
    "// Exécuter toutes les cellule du notebook\n",
    "    require(\n",
    "        ['base/js/namespace', 'jquery'], \n",
    "        function(jupyter, $) {\n",
    "            \n",
    "                \n",
    "                jupyter.actions.call('jupyter-notebook:run-all-cells-below');\n",
    "                jupyter.actions.call('jupyter-notebook:save-notebook');\n",
    "                Jupyter.actions.call('jupyter-notebook:hide-header')\n",
    "\n",
    "        }\n",
    "    );\"\"\")"
   ]
  },
  {
   "cell_type": "code",
   "execution_count": null,
   "metadata": {
    "hide_input": true,
    "hide_output": true,
    "run_control": {
     "marked": false
    }
   },
   "outputs": [],
   "source": [
    "from IPython.core.interactiveshell import InteractiveShell\n",
    "InteractiveShell.ast_node_interactivity = \"all\"\n",
    "HTML(\"\"\"<style>\n",
    "h1 {\n",
    "  font-family: 'Permanent Marker', cursive;\n",
    "  text-align: center;\n",
    "  color: red;\n",
    "  \n",
    "}\n",
    "ol {\n",
    "  list-style-position: inside;\n",
    "  margin-left: 1em;\n",
    "  list-style-position: outside;\n",
    "}\n",
    "h2 {\n",
    "  font-family: 'Permanent Marker', cursive;\n",
    "  color: blue;\n",
    "}\n",
    "</style>\"\"\")"
   ]
  },
  {
   "cell_type": "markdown",
   "metadata": {},
   "source": [
    "# TD_02_1 : Récursivité et fractales"
   ]
  },
  {
   "cell_type": "markdown",
   "metadata": {},
   "source": [
    "## Rq: \n",
    "Il faut laisser les codes que vous avez tapé et pas uniquement la correction faite en classe sinon jen epeux pas me rendre compte de ce que vous savez faire ou pas et ne peux pas vous corriger.\n",
    "Les commentaires sont une bonne idée, il en faut davantage sur les dernières fonctions"
   ]
  },
  {
   "cell_type": "markdown",
   "metadata": {},
   "source": [
    "## Exercice 1"
   ]
  },
  {
   "cell_type": "markdown",
   "metadata": {},
   "source": [
    "Le but va être de tracer un flocon de KOCH en utilisant la bibliothèque turtle et une fonction récursive.\n",
    "Le principe est de partir d'un triangle équilatéral et ensuite à chaque génération, découper chaque segemnt en trois et remplacer le segment du milieu par les deux côtés restants d'un triangle équilatéral. Ce n'est pas très clair ? Regardez la petite animation ci-dessous qui vous montrera ce qui est attendu sur chaque segment"
   ]
  },
  {
   "cell_type": "code",
   "execution_count": null,
   "metadata": {
    "hide_input": true,
    "run_control": {
     "marked": false
    }
   },
   "outputs": [],
   "source": [
    "from IPython.display import IFrame\n",
    "\n",
    "IFrame(\"https://www.youtube.com/embed/MTYW4Re_RsY\",width=\"560\",height=\"315\")"
   ]
  },
  {
   "cell_type": "markdown",
   "metadata": {},
   "source": [
    "Et voici ce que cela donne sous forme de Flocon:\n",
    "![](img/Von_Koch_curve.gif)"
   ]
  },
  {
   "cell_type": "markdown",
   "metadata": {},
   "source": [
    "Un petit exemple d'utilisation de turtle:"
   ]
  },
  {
   "cell_type": "code",
   "execution_count": 3,
   "metadata": {
    "run_control": {
     "marked": false
    }
   },
   "outputs": [
    {
     "ename": "ModuleNotFoundError",
     "evalue": "No module named 'ipyturtle'",
     "output_type": "error",
     "traceback": [
      "\u001b[0;31m---------------------------------------------------------------------------\u001b[0m",
      "\u001b[0;31mModuleNotFoundError\u001b[0m                       Traceback (most recent call last)",
      "\u001b[0;32m<ipython-input-3-a0fc5312ae89>\u001b[0m in \u001b[0;36m<module>\u001b[0;34m\u001b[0m\n\u001b[0;32m----> 1\u001b[0;31m \u001b[0;32mfrom\u001b[0m \u001b[0mipyturtle\u001b[0m \u001b[0;32mimport\u001b[0m \u001b[0;34m*\u001b[0m\u001b[0;34m\u001b[0m\u001b[0;34m\u001b[0m\u001b[0m\n\u001b[0m",
      "\u001b[0;31mModuleNotFoundError\u001b[0m: No module named 'ipyturtle'"
     ]
    }
   ],
   "source": [
    "from ipyturtle import *         "
   ]
  },
  {
   "cell_type": "code",
   "execution_count": null,
   "metadata": {
    "run_control": {
     "marked": false
    }
   },
   "outputs": [],
   "source": [
    "# On initialise l'espace de tracé et sa taille et on l'affiche\n",
    "T = Turtle(500,500,False)   # False place bien l'encadrage ou le dessin apparaitra\n",
    "T"
   ]
  },
  {
   "cell_type": "code",
   "execution_count": null,
   "metadata": {
    "run_control": {
     "marked": false
    }
   },
   "outputs": [],
   "source": [
    "# On remet à zéro l'image et on trace un carré\n",
    "T.reset()\n",
    "for i in range(4):     #on repete 4 foios pour les 4 cote\n",
    "    T.forward(100)\n",
    "    T.right(90)"
   ]
  },
  {
   "cell_type": "markdown",
   "metadata": {},
   "source": [
    "1. Pour essayer turtle, construire une fonction **polygone** qui prend comme argument la taille **t** d'un côté et le nombre **n** de côtés du polygone régulier.\n",
    "2. Construire la fonction **Koch** décrite. Si besoins, suivez le sindications données au tableau."
   ]
  },
  {
   "cell_type": "code",
   "execution_count": 2,
   "metadata": {
    "run_control": {
     "marked": false
    }
   },
   "outputs": [
    {
     "ename": "NameError",
     "evalue": "name 'T' is not defined",
     "output_type": "error",
     "traceback": [
      "\u001b[0;31m---------------------------------------------------------------------------\u001b[0m",
      "\u001b[0;31mNameError\u001b[0m                                 Traceback (most recent call last)",
      "\u001b[0;32m<ipython-input-2-876a0698c3d3>\u001b[0m in \u001b[0;36m<module>\u001b[0;34m\u001b[0m\n\u001b[1;32m      1\u001b[0m \u001b[0;31m# Question 1.\u001b[0m\u001b[0;34m\u001b[0m\u001b[0;34m\u001b[0m\u001b[0;34m\u001b[0m\u001b[0m\n\u001b[0;32m----> 2\u001b[0;31m \u001b[0mT\u001b[0m\u001b[0;34m.\u001b[0m\u001b[0mreset\u001b[0m\u001b[0;34m(\u001b[0m\u001b[0;34m)\u001b[0m                 \u001b[0;31m#pour avoir une page blacnche ou dessiner\u001b[0m\u001b[0;34m\u001b[0m\u001b[0;34m\u001b[0m\u001b[0m\n\u001b[0m\u001b[1;32m      3\u001b[0m \u001b[0;32mdef\u001b[0m \u001b[0mpolygone\u001b[0m\u001b[0;34m(\u001b[0m\u001b[0mt\u001b[0m\u001b[0;34m,\u001b[0m\u001b[0mn\u001b[0m\u001b[0;34m)\u001b[0m\u001b[0;34m:\u001b[0m        \u001b[0;31m#fonction polygone cree avec t et n deux arguments de la fonction\u001b[0m\u001b[0;34m\u001b[0m\u001b[0;34m\u001b[0m\u001b[0m\n\u001b[1;32m      4\u001b[0m    \u001b[0;32mfor\u001b[0m \u001b[0mi\u001b[0m \u001b[0;32min\u001b[0m \u001b[0mrange\u001b[0m\u001b[0;34m(\u001b[0m\u001b[0mn\u001b[0m\u001b[0;34m)\u001b[0m\u001b[0;34m:\u001b[0m    \u001b[0;31m#on va repeter l'argument n\u001b[0m\u001b[0;34m\u001b[0m\u001b[0;34m\u001b[0m\u001b[0m\n\u001b[1;32m      5\u001b[0m        \u001b[0mT\u001b[0m\u001b[0;34m.\u001b[0m\u001b[0mforward\u001b[0m\u001b[0;34m(\u001b[0m\u001b[0mt\u001b[0m\u001b[0;34m)\u001b[0m\u001b[0;34m\u001b[0m\u001b[0;34m\u001b[0m\u001b[0m\n",
      "\u001b[0;31mNameError\u001b[0m: name 'T' is not defined"
     ]
    }
   ],
   "source": [
    " # Question 1.\n",
    "T.reset()                 #pour avoir une page blacnche ou dessiner\n",
    "def polygone(t,n):        #fonction polygone cree avec t et n deux arguments de la fonction\n",
    "    for i in range(n):    #on va repeter l'argument n\n",
    "        T.forward(t)\n",
    "        T.left(360/n)     \n",
    "polygone(100,8)"
   ]
  },
  {
   "cell_type": "code",
   "execution_count": null,
   "metadata": {
    "run_control": {
     "marked": false
    }
   },
   "outputs": [],
   "source": [
    "# Question 2.\n",
    "def test(n,t,T):        #T etant Turtle\n",
    "    if n == 0:          \n",
    "        T.forward(t)\n",
    "    else:\n",
    "        test(n-1,t//3,T)      #car on le fait pour 4/3 de tout\n",
    "        T.left(60)\n",
    "        test(n-1,t//3,T)\n",
    "        T.right(120)\n",
    "        test(n-1,t//3,T)\n",
    "        T.left(60)\n",
    "        test(n-1,t//3,T)\n",
    "T.reset()                     #on peut le mettre soit devant soit derriere\n",
    "T.right(90)\n",
    "test(3,243,T)                 ne pas oublier de recrire  le T de Turtle"
   ]
  },
  {
   "cell_type": "markdown",
   "metadata": {},
   "source": [
    "Les propriétés mathématiques de cette figure seront discutées lors de la correction au tableau."
   ]
  },
  {
   "cell_type": "markdown",
   "metadata": {},
   "source": [
    "## Exercice 2"
   ]
  },
  {
   "cell_type": "markdown",
   "metadata": {},
   "source": [
    "Nous allons maintenant travailler sur une autre fractale, le **triangle de Sierpinski**\n",
    "\n",
    "![](img/sierpinski.png)"
   ]
  },
  {
   "cell_type": "markdown",
   "metadata": {},
   "source": [
    "1. Construire une fonction récursive qui trace le triangle de sierpinski en utilisant la bibliothèque Turtle.\n"
   ]
  },
  {
   "cell_type": "code",
   "execution_count": null,
   "metadata": {},
   "outputs": [],
   "source": [
    "T2 = Turtle(900,600,False)    #ici on crée une autre case ou dessiner\n",
    "T2"
   ]
  },
  {
   "cell_type": "code",
   "execution_count": null,
   "metadata": {
    "run_control": {
     "marked": false
    }
   },
   "outputs": [],
   "source": [
    "# Question 1.\n",
    "def sierpinski(n,t,T):\n",
    "    if n <= 0:\n",
    "        return\n",
    "    else:\n",
    "        for i in range(3):\n",
    "            sierpinski(n-1,t//2,T)\n",
    "            T.forward(t)\n",
    "            T.left(120)\n",
    "            \n",
    "T2.reset()\n",
    "T2.right(90)\n",
    "sierpinski(5,300,T2)"
   ]
  },
  {
   "cell_type": "markdown",
   "metadata": {},
   "source": [
    "## Exercice 3"
   ]
  },
  {
   "cell_type": "code",
   "execution_count": null,
   "metadata": {
    "hide_input": true,
    "run_control": {
     "marked": false
    }
   },
   "outputs": [],
   "source": [
    "from IPython.display import IFrame\n",
    "IFrame(\"https://www.youtube.com/embed/w_9P7icYh7Y\",560,315)"
   ]
  },
  {
   "cell_type": "markdown",
   "metadata": {},
   "source": [
    "Régardez la vidéo ci-dessus.\n",
    "1. Proposer une fonction **hanoi** récursive, qui prend comme argument le nombre **n** de disques et tout argument qui  vous paraîtra utile. Cette fonction doit renvoyer la liste des mouvements nécessaires pour résoudre le problème. Par exemple **hanoi(2)** doit renvoyer **[(1,2), (1,3), (2,3)]** c'est à dire déplacer le disque du dessus de la tour 1 vers la tour 2, puis faire de même de la tour 1 à la tour 3 et enfin de la tour 2 à la tour 3.\n"
   ]
  },
  {
   "cell_type": "code",
   "execution_count": null,
   "metadata": {
    "run_control": {
     "marked": false
    }
   },
   "outputs": [],
   "source": [
    "# Question 1.\n",
    "def hanoi(n,L=[],d=1,m=2,f=3):   #d=piquot de depart, m= piquot de millieu, f piquot de fin\n",
    "    if n==1:\n",
    "        L.append((d,f))\n",
    "    else:\n",
    "        hanoi(n-1,L,d,f,m)\n",
    "        L.append((d,f))\n",
    "        hanoi(n-1,L,m,d,f)\n",
    "        return L\n",
    "hanoi(4)\n",
    "    "
   ]
  }
 ],
 "metadata": {
  "celltoolbar": "None",
  "kernelspec": {
   "display_name": "Python 3",
   "language": "python",
   "name": "python3"
  },
  "language_info": {
   "codemirror_mode": {
    "name": "ipython",
    "version": 3
   },
   "file_extension": ".py",
   "mimetype": "text/x-python",
   "name": "python",
   "nbconvert_exporter": "python",
   "pygments_lexer": "ipython3",
   "version": "3.8.6"
  },
  "varInspector": {
   "cols": {
    "lenName": 16,
    "lenType": 16,
    "lenVar": 40
   },
   "kernels_config": {
    "python": {
     "delete_cmd_postfix": "",
     "delete_cmd_prefix": "del ",
     "library": "var_list.py",
     "varRefreshCmd": "print(var_dic_list())"
    },
    "r": {
     "delete_cmd_postfix": ") ",
     "delete_cmd_prefix": "rm(",
     "library": "var_list.r",
     "varRefreshCmd": "cat(var_dic_list()) "
    }
   },
   "types_to_exclude": [
    "module",
    "function",
    "builtin_function_or_method",
    "instance",
    "_Feature"
   ],
   "window_display": false
  }
 },
 "nbformat": 4,
 "nbformat_minor": 4
}
