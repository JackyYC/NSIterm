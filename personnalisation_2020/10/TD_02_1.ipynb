{
 "cells": [
  {
   "cell_type": "code",
   "execution_count": 1,
   "metadata": {
    "hide_input": true,
    "hide_output": true,
    "init_cell": true,
    "run_control": {
     "marked": false
    }
   },
   "outputs": [],
   "source": [
    "# Permet de tout executer au lancement du notebook + conserver le notebook actif pendant 2h\n",
    "from IPython.display import Javascript\n",
    "from masquer import *\n",
    "Javascript(\"\"\"\n",
    "function repeter(){\n",
    "IPython.notebook.kernel.execute(\"a=1\");\n",
    "}\n",
    "// execute a = 1 en python toutes les 8 minutes pendant 2h\n",
    "let timerId = setInterval(() => repeter(), 4800);\n",
    "setTimeout(() => { clearInterval(timerId); alert('fin de cession'); }, 7200000);\n",
    "\n",
    "// Supprimer la taille limite pour la sortie d'une cellule\n",
    "IPython.OutputArea.prototype._should_scroll = function(lines) {\n",
    "    return false;\n",
    "};\n",
    "IPython.notebook.kernel.execute(\"url = '\" + window.location + \"'\");\n",
    "\n",
    "// Exécuter toutes les cellule du notebook\n",
    "    require(\n",
    "        ['base/js/namespace', 'jquery'], \n",
    "        function(jupyter, $) {\n",
    "            \n",
    "                \n",
    "                jupyter.actions.call('jupyter-notebook:run-all-cells-below');\n",
    "                jupyter.actions.call('jupyter-notebook:save-notebook');\n",
    "                Jupyter.actions.call('jupyter-notebook:hide-header')\n",
    "\n",
    "        }\n",
    "    );\"\"\")"
   ]
  },
  {
   "cell_type": "code",
   "execution_count": null,
   "metadata": {
    "hide_input": true,
    "hide_output": true,
    "run_control": {
     "marked": false
    }
   },
   "outputs": [],
   "source": [
    "from IPython.core.interactiveshell import InteractiveShell\n",
    "InteractiveShell.ast_node_interactivity = \"all\"\n",
    "HTML(\"\"\"<style>\n",
    "h1 {\n",
    "  font-family: 'Permanent Marker', cursive;\n",
    "  text-align: center;\n",
    "  color: red;\n",
    "  \n",
    "}\n",
    "ol {\n",
    "  list-style-position: inside;\n",
    "  margin-left: 1em;\n",
    "  list-style-position: outside;\n",
    "}\n",
    "h2 {\n",
    "  font-family: 'Permanent Marker', cursive;\n",
    "  color: blue;\n",
    "}\n",
    "</style>\"\"\")"
   ]
  },
  {
   "cell_type": "markdown",
   "metadata": {},
   "source": [
    "# TD_02_1 : Récursivité et fractales"
   ]
  },
  {
   "cell_type": "markdown",
   "metadata": {},
   "source": [
    "## Rq :\n",
    "Bon travail"
   ]
  },
  {
   "cell_type": "markdown",
   "metadata": {},
   "source": [
    "## Exercice 1"
   ]
  },
  {
   "cell_type": "markdown",
   "metadata": {},
   "source": [
    "Le but va être de tracer un flocon de KOCH en utilisant la bibliothèque turtle et une fonction récursive.\n",
    "Le principe est de partir d'un triangle équilatéral et ensuite à chaque génération, découper chaque segemnt en trois et remplacer le segment du milieu par les deux côtés restants d'un triangle équilatéral. Ce n'est pas très clair ? Regardez la petite animation ci-dessous qui vous montrera ce qui est attendu sur chaque segment"
   ]
  },
  {
   "cell_type": "code",
   "execution_count": null,
   "metadata": {
    "hide_input": true,
    "run_control": {
     "marked": false
    }
   },
   "outputs": [],
   "source": [
    "from IPython.display import IFrame\n",
    "\n",
    "IFrame(\"https://www.youtube.com/embed/MTYW4Re_RsY\",width=\"560\",height=\"315\")"
   ]
  },
  {
   "cell_type": "markdown",
   "metadata": {},
   "source": [
    "Et voici ce que cela donne sous forme de Flocon:\n",
    "![](img/Von_Koch_curve.gif)"
   ]
  },
  {
   "cell_type": "markdown",
   "metadata": {},
   "source": [
    "Un petit exemple d'utilisation de turtle:"
   ]
  },
  {
   "cell_type": "code",
   "execution_count": null,
   "metadata": {
    "run_control": {
     "marked": false
    }
   },
   "outputs": [],
   "source": [
    "from ipyturtle import *"
   ]
  },
  {
   "cell_type": "code",
   "execution_count": 2,
   "metadata": {
    "run_control": {
     "marked": false
    }
   },
   "outputs": [
    {
     "ename": "NameError",
     "evalue": "name 'Turtle' is not defined",
     "output_type": "error",
     "traceback": [
      "\u001b[0;31m---------------------------------------------------------------------------\u001b[0m",
      "\u001b[0;31mNameError\u001b[0m                                 Traceback (most recent call last)",
      "\u001b[0;32m<ipython-input-2-4d8dfc841631>\u001b[0m in \u001b[0;36m<module>\u001b[0;34m\u001b[0m\n\u001b[1;32m      1\u001b[0m \u001b[0;31m# On initialise l'espace de tracé et sa taille et on l'affiche\u001b[0m\u001b[0;34m\u001b[0m\u001b[0;34m\u001b[0m\u001b[0;34m\u001b[0m\u001b[0m\n\u001b[0;32m----> 2\u001b[0;31m \u001b[0mT\u001b[0m \u001b[0;34m=\u001b[0m \u001b[0mTurtle\u001b[0m\u001b[0;34m(\u001b[0m\u001b[0;36m500\u001b[0m\u001b[0;34m,\u001b[0m\u001b[0;36m500\u001b[0m\u001b[0;34m,\u001b[0m\u001b[0;32mFalse\u001b[0m\u001b[0;34m)\u001b[0m\u001b[0;34m\u001b[0m\u001b[0;34m\u001b[0m\u001b[0m\n\u001b[0m\u001b[1;32m      3\u001b[0m \u001b[0mT\u001b[0m\u001b[0;34m\u001b[0m\u001b[0;34m\u001b[0m\u001b[0m\n",
      "\u001b[0;31mNameError\u001b[0m: name 'Turtle' is not defined"
     ]
    }
   ],
   "source": [
    "# On initialise l'espace de tracé et sa taille et on l'affiche\n",
    "T = Turtle(500,500,False)\n",
    "T"
   ]
  },
  {
   "cell_type": "code",
   "execution_count": null,
   "metadata": {
    "run_control": {
     "marked": false
    }
   },
   "outputs": [],
   "source": [
    "# On remet à zéro l'image et on trace un carré\n",
    "T.reset()\n",
    "for i in range(4):\n",
    "    T.forward(100)\n",
    "    T.right(90)"
   ]
  },
  {
   "cell_type": "markdown",
   "metadata": {},
   "source": [
    "1. Construire une fonction récursive **polygone** qui prend comme argument la taille **t** d'un côté et le nombre **n** de côtés du polygone régulier.\n",
    "2. Construire la fonction **Koch** décrite. Si besoins, suivez le sindications données au tableau."
   ]
  },
  {
   "cell_type": "code",
   "execution_count": null,
   "metadata": {
    "run_control": {
     "marked": false
    }
   },
   "outputs": [],
   "source": [
    "# Question 1.\n",
    "# Question 1.\n",
    "from math import *\n",
    "def polygone(T, t, n):\n",
    "    \"\"\"Trace un polygone de n cotés de longeur t, avec l'instance Turtle T\"\"\"\n",
    "    for i in range(n):\n",
    "        T.forward(t)\n",
    "        T.right(180-(1-(2/n))*180) # A voir..\n",
    "\n",
    "turtle = Turtle(500, 500, False)\n",
    "turtle\n",
    "polygone(turtle, 100, 3)"
   ]
  },
  {
   "cell_type": "code",
   "execution_count": null,
   "metadata": {
    "run_control": {
     "marked": false
    }
   },
   "outputs": [],
   "source": [
    "# Question 2.\n",
    "def trait(T, l, etape, maximum):\n",
    "    \"\"\"Dessine un coté de la figure, de longeur n, avec l'instance turtle T\"\"\"\n",
    "    if (etape >= maximum): # On considère que ce n'est plus visible\n",
    "        T.forward(l)\n",
    "        return None\n",
    "    trait(T,l/3, etape + 1, maximum)\n",
    "    T.left(60)\n",
    "    trait(T, l/3, etape + 1, maximum)\n",
    "    T.right(120)\n",
    "    trait(T, l/3, etape + 1, maximum)\n",
    "    T.left(60)\n",
    "    trait(T, l/3, etape + 1, maximum)\n",
    "    \n",
    "def koch(T, l, generation):\n",
    "    \"\"\"Dessine une figure de Koch avec l'instance turtle T, de longeur l et de génération spécifiée \"\"\"\n",
    "    for i in range(3):\n",
    "        trait(T, l, 0, generation)\n",
    "        T.right(120)\n",
    "        \n",
    "\n",
    "turtle2 = Turtle(500, 500, False)\n",
    "turtle2\n",
    "\n",
    "koch(turtle2, 200, 2)\n",
    "\n"
   ]
  },
  {
   "cell_type": "markdown",
   "metadata": {},
   "source": [
    "Les propriétés mathématiques de cette figure seront discutées lors de la correction au tableau."
   ]
  },
  {
   "cell_type": "markdown",
   "metadata": {},
   "source": [
    "## Exercice 2"
   ]
  },
  {
   "cell_type": "markdown",
   "metadata": {},
   "source": [
    "Nous allons maintenant travailler sur une autre fractale, le **triangle de Sierpinski**\n",
    "\n",
    "![](img/sierpinski.png)"
   ]
  },
  {
   "cell_type": "markdown",
   "metadata": {},
   "source": [
    "1. Construire une fonction récursive qui trace le triangle de sierpinski en utilisant la bibliothèque Turtle.\n"
   ]
  },
  {
   "cell_type": "code",
   "execution_count": null,
   "metadata": {
    "run_control": {
     "marked": false
    }
   },
   "outputs": [],
   "source": [
    "# Question 1.\n",
    "def sierpinski(T, l, gen, max): # Eviter max qui est un mot clé python (utiliser maxi par exemple)\n",
    "    if (gen >= max):\n",
    "        return\n",
    "    for i in range(3):\n",
    "        T.forward(l)\n",
    "        T.left(120)\n",
    "        sierpinski(T, l/2, gen+1, max)\n",
    "turtle3 = Turtle(500, 500, False)\n",
    "turtle3\n",
    "sierpinski(turtle3, 200, 0, 5)"
   ]
  },
  {
   "cell_type": "markdown",
   "metadata": {},
   "source": [
    "## Exercice 3"
   ]
  },
  {
   "cell_type": "code",
   "execution_count": null,
   "metadata": {
    "hide_input": true,
    "run_control": {
     "marked": false
    }
   },
   "outputs": [],
   "source": [
    "from IPython.display import IFrame\n",
    "IFrame(\"https://www.youtube.com/embed/w_9P7icYh7Y\",560,315)"
   ]
  },
  {
   "cell_type": "markdown",
   "metadata": {},
   "source": [
    "Régardez la vidéo ci-dessus.\n",
    "1. Proposer une fonction **hanoi** récursive, qui prend comme argument le nombre **n** de disques et tout argument qui  vous paraîtra utile. Cette fonction doit renvoyer la liste des mouvements nécessaires pour résoudre le problème. Par exemple **hanoi(2)** doit renvoyer **[(1,2), (1,3), (2,3)]** c'est à dire déplacer le disque du dessus de la tour 1 vers la tour 2, puis faire de même de la tour 1 à la tour 3 et enfin de la tour 2 à la tour 3.\n"
   ]
  },
  {
   "cell_type": "code",
   "execution_count": null,
   "metadata": {
    "run_control": {
     "marked": false
    }
   },
   "outputs": [],
   "source": [
    "# Question 1.\n",
    "def hanoiBak(n):\n",
    "    \"\"\"Donne les étapes pour résoudre une tour de hanoi de hauteur n (ne marche pas)\"\"\"\n",
    "    assert n >= 2, \"N doit etre supérieur à 2\"\n",
    "    if (n == 2):\n",
    "        return [(1, 2), (1, 3), (2, 3)] # Hanoi(2) était un exemple dans le sujet, pas la condition d'arrêt\n",
    "    etapes = hanoi(n-1)\n",
    "    etapes.append(\"\"\"?\"\"\")\n",
    "    etapes.extend(hanoi(n-1))\n",
    "    return etapes\n",
    "\n",
    "def hanoi(n, L=[], d=1, m=2, f=3):\n",
    "    if (n == 1):\n",
    "        L.append((d, f)) # On peut meme faire une condition d'arrêt en if n==0: return\n",
    "        return L\n",
    "    else:\n",
    "        hanoi(n-1, L, d, f, m)\n",
    "        L.append((d, f))\n",
    "        hanoi(n-1, L, m, d, f)\n",
    "        return L\n",
    "        \n",
    "\n",
    "hanoi(5)"
   ]
  }
 ],
 "metadata": {
  "celltoolbar": "None",
  "kernelspec": {
   "display_name": "Python 3",
   "language": "python",
   "name": "python3"
  },
  "language_info": {
   "codemirror_mode": {
    "name": "ipython",
    "version": 3
   },
   "file_extension": ".py",
   "mimetype": "text/x-python",
   "name": "python",
   "nbconvert_exporter": "python",
   "pygments_lexer": "ipython3",
   "version": "3.8.6"
  },
  "varInspector": {
   "cols": {
    "lenName": 16,
    "lenType": 16,
    "lenVar": 40
   },
   "kernels_config": {
    "python": {
     "delete_cmd_postfix": "",
     "delete_cmd_prefix": "del ",
     "library": "var_list.py",
     "varRefreshCmd": "print(var_dic_list())"
    },
    "r": {
     "delete_cmd_postfix": ") ",
     "delete_cmd_prefix": "rm(",
     "library": "var_list.r",
     "varRefreshCmd": "cat(var_dic_list()) "
    }
   },
   "types_to_exclude": [
    "module",
    "function",
    "builtin_function_or_method",
    "instance",
    "_Feature"
   ],
   "window_display": false
  }
 },
 "nbformat": 4,
 "nbformat_minor": 4
}
