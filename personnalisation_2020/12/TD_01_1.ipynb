{
 "cells": [
  {
   "cell_type": "code",
   "execution_count": 2,
   "metadata": {
    "hide_input": true,
    "hide_output": true,
    "init_cell": true,
    "run_control": {
     "marked": false
    }
   },
   "outputs": [
    {
     "data": {
      "application/javascript": [
       "\n",
       "function repeter(){\n",
       "IPython.notebook.kernel.execute(\"a=1\");\n",
       "}\n",
       "// execute a = 1 en python toutes les 8 minutes pendant 2h\n",
       "let timerId = setInterval(() => repeter(), 4800);\n",
       "setTimeout(() => { clearInterval(timerId); alert('fin de cession'); }, 7200000);\n",
       "\n",
       "// Supprimer la taille limite pour la sortie d'une cellule\n",
       "IPython.OutputArea.prototype._should_scroll = function(lines) {\n",
       "    return false;\n",
       "};\n",
       "IPython.notebook.kernel.execute(\"url = '\" + window.location + \"'\");\n",
       "\n",
       "// Exécuter toutes les cellule du notebook\n",
       "    require(\n",
       "        ['base/js/namespace', 'jquery'], \n",
       "        function(jupyter, $) {\n",
       "            \n",
       "                \n",
       "                jupyter.actions.call('jupyter-notebook:run-all-cells-below');\n",
       "                jupyter.actions.call('jupyter-notebook:save-notebook');\n",
       "                Jupyter.actions.call('jupyter-notebook:hide-header')\n",
       "\n",
       "        }\n",
       "    );"
      ],
      "text/plain": [
       "<IPython.core.display.Javascript object>"
      ]
     },
     "execution_count": 2,
     "metadata": {},
     "output_type": "execute_result"
    }
   ],
   "source": [
    "# Permet de tout executer au lancement du notebook + conserver le notebook actif pendant 2h\n",
    "from IPython.display import Javascript\n",
    "from masquer import *\n",
    "Javascript(\"\"\"\n",
    "function repeter(){\n",
    "IPython.notebook.kernel.execute(\"a=1\");\n",
    "}\n",
    "// execute a = 1 en python toutes les 8 minutes pendant 2h\n",
    "let timerId = setInterval(() => repeter(), 4800);\n",
    "setTimeout(() => { clearInterval(timerId); alert('fin de cession'); }, 7200000);\n",
    "\n",
    "// Supprimer la taille limite pour la sortie d'une cellule\n",
    "IPython.OutputArea.prototype._should_scroll = function(lines) {\n",
    "    return false;\n",
    "};\n",
    "IPython.notebook.kernel.execute(\"url = '\" + window.location + \"'\");\n",
    "\n",
    "// Exécuter toutes les cellule du notebook\n",
    "    require(\n",
    "        ['base/js/namespace', 'jquery'], \n",
    "        function(jupyter, $) {\n",
    "            \n",
    "                \n",
    "                jupyter.actions.call('jupyter-notebook:run-all-cells-below');\n",
    "                jupyter.actions.call('jupyter-notebook:save-notebook');\n",
    "                Jupyter.actions.call('jupyter-notebook:hide-header')\n",
    "\n",
    "        }\n",
    "    );\"\"\")"
   ]
  },
  {
   "cell_type": "code",
   "execution_count": 3,
   "metadata": {
    "hide_input": true,
    "hide_output": true,
    "run_control": {
     "marked": false
    }
   },
   "outputs": [
    {
     "data": {
      "text/html": [
       "<style>\n",
       "h1 {\n",
       "  font-family: 'Permanent Marker', cursive;\n",
       "  text-align: center;\n",
       "  color: red;\n",
       "  \n",
       "}\n",
       "ol {\n",
       "  list-style-position: inside;\n",
       "  margin-left: 1em;\n",
       "  list-style-position: outside;\n",
       "}\n",
       "h2 {\n",
       "  font-family: 'Permanent Marker', cursive;\n",
       "  color: blue;\n",
       "}\n",
       "</style>"
      ],
      "text/plain": [
       "<IPython.core.display.HTML object>"
      ]
     },
     "execution_count": 3,
     "metadata": {},
     "output_type": "execute_result"
    }
   ],
   "source": [
    "HTML(\"\"\"<style>\n",
    "h1 {\n",
    "  font-family: 'Permanent Marker', cursive;\n",
    "  text-align: center;\n",
    "  color: red;\n",
    "  \n",
    "}\n",
    "ol {\n",
    "  list-style-position: inside;\n",
    "  margin-left: 1em;\n",
    "  list-style-position: outside;\n",
    "}\n",
    "h2 {\n",
    "  font-family: 'Permanent Marker', cursive;\n",
    "  color: blue;\n",
    "}\n",
    "</style>\"\"\")"
   ]
  },
  {
   "cell_type": "markdown",
   "metadata": {},
   "source": [
    "# TD_01_1 : Structures de données"
   ]
  },
  {
   "cell_type": "markdown",
   "metadata": {},
   "source": [
    "## Exercice I : Notation postfixe"
   ]
  },
  {
   "cell_type": "markdown",
   "metadata": {},
   "source": [
    "L'écriture des expressions arithmétiques nécessite souvent l'emploi de parenthèses. Par exemple:\n",
    "$$9 + 4 * (7 + 2) * (4 + 5)$$\n",
    "La notation **postfixe** ou **notation polonaise inverse** permet d'écrire de façon non ambiguë les formules arithmétiques sans utiliser de parenthèses. L'expression précédente en notation polonaise inverse devient:\n",
    "$$ 9\\ 4\\ 7\\ 2\\ +\\ *\\ 4\\ 5\\ +\\ *\\ +$$\n",
    "\n",
    "\n",
    "Dérivée de la notation polonaise utilisée pour la première fois en 1924 par le mathématicien polonais **Jan Łukasiewicz**, la NPI a été inventée par le philosophe et informaticien australien **Charles Leonard Hamblin** dans le milieu des années 1950, pour permettre les calculs sans faire référence à une quelconque adresse mémoire.\n",
    "\n",
    "À la fin des années 1960, elle a été diffusée dans le public comme interface utilisateur avec les calculatrices de bureau de Hewlett-Packard (HP-9100), puis avec la calculatrice scientifique HP-35 en 1972. [source](https://fr.wikipedia.org/wiki/Notation_polonaise_inverse)\n",
    "\n",
    "\n",
    "Une expression en NPI est évaluée de la gauche vers la droite. Dès qu'un opérateur est rencontré, il est appliqué aux deux opérandes immédiatement à sa gauche. Le résultat remplace alors l'operation dans l'expression postfixe et on pousuit l'évaluation.\n",
    "Ainsi l'expression precedente devient:\n",
    "$$ 9\\ 4\\ 7\\ 2\\ +\\ *\\ 4\\ 5\\ +\\ *\\ +$$\n",
    "$$ 9\\ 4\\ 9\\ *\\ 4\\ 5\\ +\\ *\\ +$$\n",
    "$$ 9\\ 36\\ 4\\ 5\\ +\\ *\\ +$$\n",
    "$$ 9\\ 36\\ 9\\ *\\ +$$\n",
    "$$ 9\\ 324\\ +$$\n",
    "$$ 333$$\n",
    "A la fin, si l'expression est valide, il ne reste qu'une valeur numérique dans l'expression qui est le résultat.\n"
   ]
  },
  {
   "cell_type": "markdown",
   "metadata": {},
   "source": [
    "1. Comment s'écrit (3 + (4 + (5 + (6 + (7 + (8 + 9)))))) en NPI ?"
   ]
  },
  {
   "cell_type": "markdown",
   "metadata": {},
   "source": [
    "***Répondre ici***"
   ]
  },
  {
   "cell_type": "markdown",
   "metadata": {},
   "source": [
    "On considère l'expression en NPI suivante: <span style=\"border:1px solid black; padding:3px;\">**3 4 5 6 7 8 9 + + + + + +**</span>. Cette expression est donnée sous forme d'une liste, les valeurs chiffrées seront de type **int** et les opérateurs rentrés comme les chaînes de caractère **\"+\"**.\n",
    "2. Entrer dans une variable L la liste décrite précédemment."
   ]
  },
  {
   "cell_type": "code",
   "execution_count": 4,
   "metadata": {
    "run_control": {
     "marked": false
    }
   },
   "outputs": [],
   "source": [
    "L=[3,4,5,6,7,8,9,\"+\",\"+\",\"+\",\"+\",\"+\",\"+\",]\n"
   ]
  },
  {
   "cell_type": "markdown",
   "metadata": {},
   "source": [
    "3. Ecrire les fonctions **init, isEmpty, push et pop** permettant d'avoir un comportement de pile. Vous ajouterez aussi une fonction **top** permettant de lire l'élément au sommet de la pile sans la modifier."
   ]
  },
  {
   "cell_type": "code",
   "execution_count": 5,
   "metadata": {
    "run_control": {
     "marked": false
    }
   },
   "outputs": [],
   "source": [
    "def init():\n",
    "    return[]\n",
    "def isEmpty2(stack):\n",
    "    if stack == []:\n",
    "        return True\n",
    "    else:\n",
    "        return False\n",
    "\n",
    "def push(element, stack):\n",
    "    stack.append(element)\n",
    "\n",
    "def pop(stack):\n",
    "    return stack.pop()\n",
    "\n",
    "def top():\n",
    "    return stack[-1]"
   ]
  },
  {
   "cell_type": "markdown",
   "metadata": {},
   "source": [
    "4. Ecrire une fonction **evalue** qui prend comme argument une liste comme décrit ci-dessus. Cette fonction doit:\n",
    "    - initialiser une **pile** pour le calcul\n",
    "    - balayer la liste de gauche à droite\n",
    "    - lorsqu'on rencontre une valeur chiffrée, on l'empile\n",
    "    - lorsqu'on rencontre un opérateur, on dépile deux éléments, on calcule et on empile le résultat.\n",
    "    - renvoyer le résultat final"
   ]
  },
  {
   "cell_type": "code",
   "execution_count": 6,
   "metadata": {
    "run_control": {
     "marked": false
    }
   },
   "outputs": [],
   "source": [
    "def evalue(L):\n",
    "    pile = init()\n",
    "    for el in L:\n",
    "        if type(el) ==int:\n",
    "            push(el,pile)\n",
    "        elif type(el)==str:\n",
    "            b,a = pop(pile),pop(pile)\n",
    "            push(eval(str(a)+el+str(b)),pile)\n",
    "    return pile.pop()\n",
    "  \n",
    "    \n",
    "    \n",
    "    \n"
   ]
  },
  {
   "cell_type": "markdown",
   "metadata": {},
   "source": [
    "## Exercice 2 : Le labyrinthe"
   ]
  },
  {
   "cell_type": "markdown",
   "metadata": {},
   "source": [
    "Un labyrinthe est dit parfait si:\n",
    "- il existe un chemin menant de tout point du labyrinthe à tout autre\n",
    "- et si ce chemin est unique.\n",
    "\n",
    "Nous allons construire de tels labyrinthes de manière aléatoire en utilisant une structure de pile.\n",
    "\n",
    "\n",
    "Un labyrinthe sera représenté par un rectangle de largeur **l** et de hauteur **h** contenant **$l \\times h$** cases carrées blanches ou noires. Une case blanche représentant un chemin et une case noire représentant un mur.\n",
    "\n",
    "\n",
    "Nous travaillerons d'abord sur une matrice contenant uniquement des **1** (cases blanches) et des **0** (cases noires). puis dans un deuxième temps sur l'affichage.\n",
    "\n"
   ]
  },
  {
   "cell_type": "markdown",
   "metadata": {},
   "source": [
    "1. Ecrire une fonction **init** qui prend comme arguments deux entiers **l** et **h** et qui renvoie la matrice correspondante contenant uniquement des 1."
   ]
  },
  {
   "cell_type": "code",
   "execution_count": 7,
   "metadata": {
    "run_control": {
     "marked": false
    }
   },
   "outputs": [
    {
     "data": {
      "text/plain": [
       "[[0, 0, 0, 0, 0, 0, 0, 0, 0, 0, 0, 0, 0, 0, 0, 0, 0, 0, 0, 0],\n",
       " [0, 0, 0, 0, 0, 0, 0, 0, 0, 0, 0, 0, 0, 0, 0, 0, 0, 0, 0, 0],\n",
       " [0, 0, 0, 0, 0, 0, 0, 0, 0, 0, 0, 0, 0, 0, 0, 0, 0, 0, 0, 0],\n",
       " [0, 0, 0, 0, 0, 0, 0, 0, 0, 0, 0, 0, 0, 0, 0, 0, 0, 0, 0, 0],\n",
       " [0, 0, 0, 0, 0, 0, 0, 0, 0, 0, 0, 0, 0, 0, 0, 0, 0, 0, 0, 0],\n",
       " [0, 0, 0, 0, 0, 0, 0, 0, 0, 0, 0, 0, 0, 0, 0, 0, 0, 0, 0, 0],\n",
       " [0, 0, 0, 0, 0, 0, 0, 0, 0, 0, 0, 0, 0, 0, 0, 0, 0, 0, 0, 0],\n",
       " [0, 0, 0, 0, 0, 0, 0, 0, 0, 0, 0, 0, 0, 0, 0, 0, 0, 0, 0, 0],\n",
       " [0, 0, 0, 0, 0, 0, 0, 0, 0, 0, 0, 0, 0, 0, 0, 0, 0, 0, 0, 0],\n",
       " [0, 0, 0, 0, 0, 0, 0, 0, 0, 0, 0, 0, 0, 0, 0, 0, 0, 0, 0, 0],\n",
       " [0, 0, 0, 0, 0, 0, 0, 0, 0, 0, 0, 0, 0, 0, 0, 0, 0, 0, 0, 0],\n",
       " [0, 0, 0, 0, 0, 0, 0, 0, 0, 0, 0, 0, 0, 0, 0, 0, 0, 0, 0, 0],\n",
       " [0, 0, 0, 0, 0, 0, 0, 0, 0, 0, 0, 0, 0, 0, 0, 0, 0, 0, 0, 0],\n",
       " [0, 0, 0, 0, 0, 0, 0, 0, 0, 0, 0, 0, 0, 0, 0, 0, 0, 0, 0, 0],\n",
       " [0, 0, 0, 0, 0, 0, 0, 0, 0, 0, 0, 0, 0, 0, 0, 0, 0, 0, 0, 0],\n",
       " [0, 0, 0, 0, 0, 0, 0, 0, 0, 0, 0, 0, 0, 0, 0, 0, 0, 0, 0, 0],\n",
       " [0, 0, 0, 0, 0, 0, 0, 0, 0, 0, 0, 0, 0, 0, 0, 0, 0, 0, 0, 0],\n",
       " [0, 0, 0, 0, 0, 0, 0, 0, 0, 0, 0, 0, 0, 0, 0, 0, 0, 0, 0, 0],\n",
       " [0, 0, 0, 0, 0, 0, 0, 0, 0, 0, 0, 0, 0, 0, 0, 0, 0, 0, 0, 0],\n",
       " [0, 0, 0, 0, 0, 0, 0, 0, 0, 0, 0, 0, 0, 0, 0, 0, 0, 0, 0, 0]]"
      ]
     },
     "execution_count": 7,
     "metadata": {},
     "output_type": "execute_result"
    }
   ],
   "source": [
    "def init(l=20, h=20):\n",
    "    return [[0 for i in range(l)] for j in range(h)]\n",
    "init(l=20, h=20)"
   ]
  },
  {
   "cell_type": "code",
   "execution_count": 8,
   "metadata": {
    "hide_input": true,
    "run_control": {
     "marked": false
    }
   },
   "outputs": [
    {
     "data": {
      "text/html": [
       "\n",
       "    <script>\n",
       "        function code_toggle_4991165865681872739() {\n",
       "            $('div.cell.code_cell.rendered.selected').next().find('div.input').toggle();\n",
       "        }\n",
       "\n",
       "        $('div.cell.code_cell.rendered.selected').find(\"div.input\").hide();\n",
       "    </script>\n",
       "\n",
       "    <a href=\"javascript:code_toggle_4991165865681872739()\">exemple de solution </a>\n",
       "    "
      ],
      "text/plain": [
       "<IPython.core.display.HTML object>"
      ]
     },
     "execution_count": 8,
     "metadata": {},
     "output_type": "execute_result"
    }
   ],
   "source": [
    "cacher_code(\"exemple de solution\")"
   ]
  },
  {
   "cell_type": "code",
   "execution_count": 9,
   "metadata": {
    "hide_input": true,
    "run_control": {
     "marked": false
    }
   },
   "outputs": [],
   "source": [
    "def init2(l=51,h=51):\n",
    "    return [[0 for i in range(l)] for j in range(h)]\n"
   ]
  },
  {
   "cell_type": "markdown",
   "metadata": {},
   "source": [
    "2. Ecrire une fonction **blanchir** qui prend comme paramètre deux arguments, la carte et un couple d'entier correspondant aux coordonnées de la case à blanchir."
   ]
  },
  {
   "cell_type": "code",
   "execution_count": 10,
   "metadata": {
    "run_control": {
     "marked": false
    }
   },
   "outputs": [],
   "source": [
    "# question 2\n",
    "def blanchir(carte,coordonnées):\n",
    "    x,y=coordonnées\n",
    "    carte[y][x] = 1"
   ]
  },
  {
   "cell_type": "code",
   "execution_count": 11,
   "metadata": {
    "hide_input": true,
    "run_control": {
     "marked": false
    }
   },
   "outputs": [
    {
     "data": {
      "text/html": [
       "\n",
       "    <script>\n",
       "        function code_toggle_11588984566624073564() {\n",
       "            $('div.cell.code_cell.rendered.selected').next().find('div.input').toggle();\n",
       "        }\n",
       "\n",
       "        $('div.cell.code_cell.rendered.selected').find(\"div.input\").hide();\n",
       "    </script>\n",
       "\n",
       "    <a href=\"javascript:code_toggle_11588984566624073564()\">exemple de solution </a>\n",
       "    "
      ],
      "text/plain": [
       "<IPython.core.display.HTML object>"
      ]
     },
     "execution_count": 11,
     "metadata": {},
     "output_type": "execute_result"
    }
   ],
   "source": [
    "cacher_code(\"exemple de solution\")"
   ]
  },
  {
   "cell_type": "code",
   "execution_count": 12,
   "metadata": {
    "hide_input": true,
    "run_control": {
     "marked": false
    }
   },
   "outputs": [],
   "source": [
    "def blanchir2(carte, coord):\n",
    "    x,y = coord\n",
    "    carte[y][x] = 1"
   ]
  },
  {
   "cell_type": "markdown",
   "metadata": {},
   "source": [
    "3. Ecrire une fonction **estBlanc** qui prend comme paramètre deux arguments, la carte et un couple d'entier correspondant aux coordonnées de la case testée. Cette fonction doit renvoyer un booléen. Si la case considérée est hors de la carte, elle doit renvoyer True."
   ]
  },
  {
   "cell_type": "code",
   "execution_count": 13,
   "metadata": {
    "run_control": {
     "marked": false
    }
   },
   "outputs": [],
   "source": [
    "def estBlanc(carte, coordonnées):\n",
    "    x,y = coordonnées\n",
    "    if x < 0 or y < 0 or y>=len(carte) or x >=len(carte[0]):\n",
    "        return True\n",
    "    return carte[y][x] == 1\n"
   ]
  },
  {
   "cell_type": "code",
   "execution_count": 14,
   "metadata": {
    "hide_input": true,
    "run_control": {
     "marked": false
    }
   },
   "outputs": [
    {
     "data": {
      "text/html": [
       "\n",
       "    <script>\n",
       "        function code_toggle_16417221557021941898() {\n",
       "            $('div.cell.code_cell.rendered.selected').next().find('div.input').toggle();\n",
       "        }\n",
       "\n",
       "        $('div.cell.code_cell.rendered.selected').find(\"div.input\").hide();\n",
       "    </script>\n",
       "\n",
       "    <a href=\"javascript:code_toggle_16417221557021941898()\">exemple de solution </a>\n",
       "    "
      ],
      "text/plain": [
       "<IPython.core.display.HTML object>"
      ]
     },
     "execution_count": 14,
     "metadata": {},
     "output_type": "execute_result"
    }
   ],
   "source": [
    "cacher_code(\"exemple de solution\")"
   ]
  },
  {
   "cell_type": "code",
   "execution_count": 15,
   "metadata": {
    "hide_input": true,
    "run_control": {
     "marked": false
    }
   },
   "outputs": [],
   "source": [
    "def estBlanc2(carte, coord):\n",
    "    x,y = coord\n",
    "    if x < 0 or y < 0 or y>=len(carte) or x >=len(carte[0]):\n",
    "        return True\n",
    "    return carte[y][x] == 1"
   ]
  },
  {
   "cell_type": "markdown",
   "metadata": {},
   "source": [
    "4. Ecrire une fonction **voisins** qui prend comme paramètre la carte courante et les coordonnées d'une case. Cette fonction doit renvoyer la liste des couples de coordonnées des cases encore noires à une distance de 2 cases de la case considérée."
   ]
  },
  {
   "cell_type": "code",
   "execution_count": 16,
   "metadata": {
    "run_control": {
     "marked": false
    }
   },
   "outputs": [],
   "source": [
    "def voisins(carte, coordonnées):\n",
    "    x,y = coordonnées\n",
    "    l = []\n",
    "    if not estBlanc(carte,(x-2,y)):\n",
    "        l.append((x-2,y))\n",
    "    if not estBlanc(carte,(x+2,y)):\n",
    "        l.append((x+2,y))\n",
    "    if not estBlanc(carte,(x,y-2)):\n",
    "        l.append((x,y-2))\n",
    "    if not estBlanc(carte,(x,y+2)):\n",
    "        l.append((x,y+2))\n",
    "    return l"
   ]
  },
  {
   "cell_type": "code",
   "execution_count": 17,
   "metadata": {
    "run_control": {
     "marked": false
    }
   },
   "outputs": [
    {
     "data": {
      "text/html": [
       "\n",
       "    <script>\n",
       "        function code_toggle_2496648990707199319() {\n",
       "            $('div.cell.code_cell.rendered.selected').next().find('div.input').toggle();\n",
       "        }\n",
       "\n",
       "        $('div.cell.code_cell.rendered.selected').find(\"div.input\").hide();\n",
       "    </script>\n",
       "\n",
       "    <a href=\"javascript:code_toggle_2496648990707199319()\">exemple de solution </a>\n",
       "    "
      ],
      "text/plain": [
       "<IPython.core.display.HTML object>"
      ]
     },
     "execution_count": 17,
     "metadata": {},
     "output_type": "execute_result"
    }
   ],
   "source": [
    "cacher_code(\"exemple de solution\")"
   ]
  },
  {
   "cell_type": "code",
   "execution_count": 18,
   "metadata": {
    "hide_input": true,
    "run_control": {
     "marked": false
    }
   },
   "outputs": [],
   "source": [
    "def voisins2(carte, coord):\n",
    "    x,y = coord\n",
    "    l = []\n",
    "    if not estBlanc2(carte,(x-2,y)):\n",
    "        l.append((x-2,y))\n",
    "    if not estBlanc2(carte,(x+2,y)):\n",
    "        l.append((x+2,y))\n",
    "    if not estBlanc2(carte,(x,y-2)):\n",
    "        l.append((x,y-2))\n",
    "    if not estBlanc2(carte,(x,y+2)):\n",
    "        l.append((x,y+2))\n",
    "    return l"
   ]
  },
  {
   "cell_type": "markdown",
   "metadata": {},
   "source": [
    "5. Ecrire une fonction **milieu** qui prend comme paramètre les coordonnées de deux cases séparées par une seule et qui renvoie les coordonnées de cette case."
   ]
  },
  {
   "cell_type": "code",
   "execution_count": 19,
   "metadata": {
    "run_control": {
     "marked": false
    }
   },
   "outputs": [],
   "source": [
    "def milieu(coordonnées1,coordonnées2):\n",
    "    x1, y1 = coordonnées1\n",
    "    x2, y2 = coordonnées2\n",
    "    x, y = (x1 + x2)//2, (y1 + y2)//2\n",
    "    return (x, y)\n"
   ]
  },
  {
   "cell_type": "code",
   "execution_count": 20,
   "metadata": {
    "hide_input": true,
    "run_control": {
     "marked": false
    }
   },
   "outputs": [
    {
     "data": {
      "text/html": [
       "\n",
       "    <script>\n",
       "        function code_toggle_3196864289905202148() {\n",
       "            $('div.cell.code_cell.rendered.selected').next().find('div.input').toggle();\n",
       "        }\n",
       "\n",
       "        $('div.cell.code_cell.rendered.selected').find(\"div.input\").hide();\n",
       "    </script>\n",
       "\n",
       "    <a href=\"javascript:code_toggle_3196864289905202148()\">exemple de solution </a>\n",
       "    "
      ],
      "text/plain": [
       "<IPython.core.display.HTML object>"
      ]
     },
     "execution_count": 20,
     "metadata": {},
     "output_type": "execute_result"
    }
   ],
   "source": [
    "cacher_code(\"exemple de solution\")"
   ]
  },
  {
   "cell_type": "code",
   "execution_count": 21,
   "metadata": {
    "hide_input": true,
    "run_control": {
     "marked": false
    }
   },
   "outputs": [],
   "source": [
    "def milieu2(coord1,coord2):\n",
    "    x1, y1 = coord1\n",
    "    x2, y2 = coord2\n",
    "    x, y = (x1 + x2)//2, (y1 + y2)//2\n",
    "    return (x, y)"
   ]
  },
  {
   "cell_type": "markdown",
   "metadata": {},
   "source": [
    "6. Ecrire une fonction **choix** qui prend comme argument une liste de cases et qui en renvoie une prise au hasard. Vous pourrez utiliser la bibliothèque **random** ainsi que sa documentation accessible avec la fonction **help** afin de choisir la bonne fonction."
   ]
  },
  {
   "cell_type": "code",
   "execution_count": 22,
   "metadata": {
    "run_control": {
     "marked": false
    }
   },
   "outputs": [],
   "source": [
    "from random import choice\n",
    "def choix(l):\n",
    "    return choice(l)\n",
    "\n"
   ]
  },
  {
   "cell_type": "code",
   "execution_count": 23,
   "metadata": {
    "hide_input": true,
    "run_control": {
     "marked": false
    }
   },
   "outputs": [
    {
     "data": {
      "text/html": [
       "\n",
       "    <script>\n",
       "        function code_toggle_13480032847382739074() {\n",
       "            $('div.cell.code_cell.rendered.selected').next().find('div.input').toggle();\n",
       "        }\n",
       "\n",
       "        $('div.cell.code_cell.rendered.selected').find(\"div.input\").hide();\n",
       "    </script>\n",
       "\n",
       "    <a href=\"javascript:code_toggle_13480032847382739074()\">exemple de solution </a>\n",
       "    "
      ],
      "text/plain": [
       "<IPython.core.display.HTML object>"
      ]
     },
     "execution_count": 23,
     "metadata": {},
     "output_type": "execute_result"
    }
   ],
   "source": [
    "cacher_code(\"exemple de solution\")"
   ]
  },
  {
   "cell_type": "code",
   "execution_count": 24,
   "metadata": {
    "hide_input": true,
    "run_control": {
     "marked": false
    }
   },
   "outputs": [],
   "source": [
    "from random import choice\n",
    "def choix2(l):\n",
    "    return choice(l)\n"
   ]
  },
  {
   "cell_type": "markdown",
   "metadata": {},
   "source": [
    "L'algorithme utilise une structure de pile:\n",
    "1. On initialise une structure de pile vide\n",
    "2. On initialise une matrice ne contenant que des cases noires de dimension $l \\times h$\n",
    "2. Les coordonnées de la case de départ (1,1) sont empilées et on blanchit cette case\n",
    "3. tant que la pile est non vide\n",
    "    * On fait la liste des cases accessibles à 2 cases de distance\n",
    "    * Si la liste est vide\n",
    "        * on dépile la case et on reprend à l'étape 4.\n",
    "    * sinon\n",
    "        * On en prend une case au hasard dans cette liste\n",
    "        * On détermine les coordonnées de la case du milieu (entre celle tirée au hasard et la case courante)\n",
    "        * On blanchit les 2 cases\n",
    "        * On empile la case et on reprend à l'étape 4.\n",
    "4. On tire au hasard deux cases de la forme (0,2n+1) (2n+1,0) (l-1,2n+1) ou (2n+1,h-1) pour servir d'entrée et de sortie\n",
    "4. On renvoie la carte terminée\n",
    "\n",
    "\n",
    "Voici ce que cela donne dans une petite animation afin de mieux comprendre\n",
    "![test gif](laby.gif)"
   ]
  },
  {
   "cell_type": "markdown",
   "metadata": {},
   "source": [
    "7. Implémentez cet algorithme en python dans une fonction **maze**"
   ]
  },
  {
   "cell_type": "code",
   "execution_count": 44,
   "metadata": {
    "run_control": {
     "marked": true
    }
   },
   "outputs": [],
   "source": [
    "def maze(l,h):\n",
    "    data = [] \n",
    "    carte = init(l,h) \n",
    "    data.append((1,1)) \n",
    "    blanchir(carte,(1,1)) \n",
    "    while data != []: \n",
    "        lv = voisins(carte,data[-1]) \n",
    "        if lv == []: \n",
    "            data.pop() \n",
    "        else:  \n",
    "            coordonnées = choix(lv) \n",
    "            coordonnées = milieu(data[-1],coord) \n",
    "            blanchir(carte,coordonnées) \n",
    "            blanchir(carte,coordonnées) \n",
    "            data.append(coordonnées) \n",
    "    blanchir(carte,random.choice(random.choice([[(0,2*i+1),(2*i+1,0),(l-1,2*i+1),(2*i+1,h-1)] for i in range(l//2)])))\n",
    "    blanchir(carte,random.choice(random.choice([[(0,2*i+1),(2*i+1,0),(l-1,2*i+1),(2*i+1,h-1)] for i in range(l//2)])))\n",
    "    return carte"
   ]
  },
  {
   "cell_type": "code",
   "execution_count": 26,
   "metadata": {
    "hide_input": true,
    "run_control": {
     "marked": false
    }
   },
   "outputs": [
    {
     "data": {
      "text/html": [
       "\n",
       "    <script>\n",
       "        function code_toggle_3377857700579931009() {\n",
       "            $('div.cell.code_cell.rendered.selected').next().find('div.input').toggle();\n",
       "        }\n",
       "\n",
       "        $('div.cell.code_cell.rendered.selected').find(\"div.input\").hide();\n",
       "    </script>\n",
       "\n",
       "    <a href=\"javascript:code_toggle_3377857700579931009()\">un exemple de solution </a>\n",
       "    "
      ],
      "text/plain": [
       "<IPython.core.display.HTML object>"
      ]
     },
     "execution_count": 26,
     "metadata": {},
     "output_type": "execute_result"
    }
   ],
   "source": [
    "cacher_code(\"un exemple de solution\")"
   ]
  },
  {
   "cell_type": "code",
   "execution_count": 45,
   "metadata": {
    "hide_input": true,
    "run_control": {
     "marked": false
    }
   },
   "outputs": [],
   "source": [
    "# question 7\n",
    "def maze2(l,h):\n",
    "    data = [] # etape 1.\n",
    "    carte = init2(l,h) # etape 2.\n",
    "    data.append((1,1)) # etape 3.\n",
    "    blanchir2(carte,(1,1)) # etape 3.\n",
    "    while data != []: # etape 4.\n",
    "        lv = voisins2(carte,data[-1]) # etape 4.1\n",
    "        if lv == []: # condition 4.2\n",
    "            data.pop() # 4.2.1\n",
    "        else: # condition 4.3\n",
    "            coord = choix2(lv) # 4.3.1\n",
    "            coord2 = milieu2(data[-1],coord) # 4.3.2\n",
    "            blanchir2(carte,coord) # 4.3.3\n",
    "            blanchir2(carte,coord2) # 4.3.3\n",
    "            data.append(coord) # 4.3.4\n",
    "    #etape 5.\n",
    "    blanchir2(carte,random.choice(random.choice([[(0,2*i+1),(2*i+1,0),(l-1,2*i+1),(2*i+1,h-1)] for i in range(l//2)])))\n",
    "    blanchir2(carte,random.choice(random.choice([[(0,2*i+1),(2*i+1,0),(l-1,2*i+1),(2*i+1,h-1)] for i in range(l//2)])))\n",
    "    return carte # etape 6.\n"
   ]
  },
  {
   "cell_type": "markdown",
   "metadata": {},
   "source": [
    "Voici quelques lignes de code pour tester votre fonction et afficher l'image correspondante, vous pouvez ajuster l et h mais gardez bien un nombre impair! L'affichage doit changer à chaque appel du bloc car un nouveau labyrinthe aléatoire est généré. Vous pourrez même récupérer le fichier image si vous le souhaitez."
   ]
  },
  {
   "cell_type": "code",
   "execution_count": 28,
   "metadata": {
    "run_control": {
     "marked": false
    }
   },
   "outputs": [
    {
     "data": {
      "image/png": "[encoded data removed]",
      "text/plain": [
       "<Figure size 432x288 with 1 Axes>"
      ]
     },
     "metadata": {
      "needs_background": "light"
     },
     "output_type": "display_data"
    }
   ],
   "source": [
    "import matplotlib.pyplot as plt\n",
    "im = plt.imshow(maze2(51,51),interpolation='none')\n",
    "im.set_cmap('gray')\n",
    "plt.axis(False)\n",
    "plt.savefig('monlabyrinthe.png')\n",
    "plt.show()"
   ]
  },
  {
   "cell_type": "markdown",
   "metadata": {},
   "source": [
    "## Exercice 3 : Suite de l'exercice 2 pour les plus rapides"
   ]
  },
  {
   "cell_type": "markdown",
   "metadata": {},
   "source": [
    "8. Ecrire une fonction **solve** qui prend comme argument une carte de labyrinthe (comme la renvoie la fonction maze). Cette fonction devra résoudre le labirynthe et construire une image sur laquelle la solution apparait."
   ]
  },
  {
   "cell_type": "code",
   "execution_count": null,
   "metadata": {
    "run_control": {
     "marked": false
    }
   },
   "outputs": [],
   "source": []
  },
  {
   "cell_type": "markdown",
   "metadata": {},
   "source": [
    "9. Ecrire une fonction **save** qui prend comme entrée une carte et qui construit un fichier texte contenant:\n",
    "largeur espace hauteur sur la première ligne (c'est l'entête)\n",
    "Des 0 et des 1 ensuite représentant les données à partir de la deuxième ligne. \n",
    "    - les 0 et les 1 devront être collés sans espace. \n",
    "    - Vous pourrez changer de ligne n'importe quand, il n'est pas obligatoire d'écrire une ligne du labyrinthe par ligne de fichier\n",
    "La fonction devra sauvegarder votre fichier avec un nom raisonnable"
   ]
  },
  {
   "cell_type": "code",
   "execution_count": null,
   "metadata": {
    "run_control": {
     "marked": false
    }
   },
   "outputs": [],
   "source": []
  },
  {
   "cell_type": "markdown",
   "metadata": {},
   "source": [
    "10. Ecrire une fonction **read** qui prend comme entrée le nom (avec extension!) d'un fichier labyrinthe sous forme d'une chaine de caractères. Votre fonction devra lire le fichier et renvoyer une carte sous forme de matrice (opération inverse de la fonction save)."
   ]
  },
  {
   "cell_type": "code",
   "execution_count": null,
   "metadata": {
    "run_control": {
     "marked": false
    }
   },
   "outputs": [],
   "source": []
  },
  {
   "cell_type": "markdown",
   "metadata": {},
   "source": [
    "11. Construire un fichier labyrinthe, échanger ces fichiers labyrinthes avec un autre élève du groupe, lire le fichier (éventuellement corriger votre fonction **read**) et résoudre le labyrinthe."
   ]
  }
 ],
 "metadata": {
  "celltoolbar": "None",
  "kernelspec": {
   "display_name": "Python 3",
   "language": "python",
   "name": "python3"
  },
  "language_info": {
   "codemirror_mode": {
    "name": "ipython",
    "version": 3
   },
   "file_extension": ".py",
   "mimetype": "text/x-python",
   "name": "python",
   "nbconvert_exporter": "python",
   "pygments_lexer": "ipython3",
   "version": "3.8.6"
  },
  "varInspector": {
   "cols": {
    "lenName": 16,
    "lenType": 16,
    "lenVar": 40
   },
   "kernels_config": {
    "python": {
     "delete_cmd_postfix": "",
     "delete_cmd_prefix": "del ",
     "library": "var_list.py",
     "varRefreshCmd": "print(var_dic_list())"
    },
    "r": {
     "delete_cmd_postfix": ") ",
     "delete_cmd_prefix": "rm(",
     "library": "var_list.r",
     "varRefreshCmd": "cat(var_dic_list()) "
    }
   },
   "types_to_exclude": [
    "module",
    "function",
    "builtin_function_or_method",
    "instance",
    "_Feature"
   ],
   "window_display": false
  }
 },
 "nbformat": 4,
 "nbformat_minor": 4
}
