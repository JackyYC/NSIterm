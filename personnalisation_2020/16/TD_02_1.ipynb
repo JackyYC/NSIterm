{
 "cells": [
  {
   "cell_type": "code",
   "execution_count": 1,
   "metadata": {
    "hide_input": true,
    "hide_output": true,
    "init_cell": true,
    "run_control": {
     "marked": false
    }
   },
   "outputs": [
    {
     "ename": "ModuleNotFoundError",
     "evalue": "No module named 'masquer'",
     "output_type": "error",
     "traceback": [
      "\u001b[0;31m---------------------------------------------------------------------------\u001b[0m",
      "\u001b[0;31mModuleNotFoundError\u001b[0m                       Traceback (most recent call last)",
      "\u001b[0;32m<ipython-input-1-7894d36b3d29>\u001b[0m in \u001b[0;36m<module>\u001b[0;34m\u001b[0m\n\u001b[1;32m      1\u001b[0m \u001b[0;31m# Permet de tout executer au lancement du notebook + conserver le notebook actif pendant 2h\u001b[0m\u001b[0;34m\u001b[0m\u001b[0;34m\u001b[0m\u001b[0;34m\u001b[0m\u001b[0m\n\u001b[1;32m      2\u001b[0m \u001b[0;32mfrom\u001b[0m \u001b[0mIPython\u001b[0m\u001b[0;34m.\u001b[0m\u001b[0mdisplay\u001b[0m \u001b[0;32mimport\u001b[0m \u001b[0mJavascript\u001b[0m\u001b[0;34m\u001b[0m\u001b[0;34m\u001b[0m\u001b[0m\n\u001b[0;32m----> 3\u001b[0;31m \u001b[0;32mfrom\u001b[0m \u001b[0mmasquer\u001b[0m \u001b[0;32mimport\u001b[0m \u001b[0;34m*\u001b[0m\u001b[0;34m\u001b[0m\u001b[0;34m\u001b[0m\u001b[0m\n\u001b[0m\u001b[1;32m      4\u001b[0m Javascript(\"\"\"\n\u001b[1;32m      5\u001b[0m function repeter(){\n",
      "\u001b[0;31mModuleNotFoundError\u001b[0m: No module named 'masquer'"
     ]
    }
   ],
   "source": [
    "# Permet de tout executer au lancement du notebook + conserver le notebook actif pendant 2h\n",
    "from IPython.display import Javascript\n",
    "from masquer import *\n",
    "Javascript(\"\"\"\n",
    "function repeter(){\n",
    "IPython.notebook.kernel.execute(\"a=1\");\n",
    "}\n",
    "// execute a = 1 en python toutes les 8 minutes pendant 2h\n",
    "let timerId = setInterval(() => repeter(), 4800);\n",
    "setTimeout(() => { clearInterval(timerId); alert('fin de cession'); }, 7200000);\n",
    "\n",
    "// Supprimer la taille limite pour la sortie d'une cellule\n",
    "IPython.OutputArea.prototype._should_scroll = function(lines) {\n",
    "    return false;\n",
    "};\n",
    "IPython.notebook.kernel.execute(\"url = '\" + window.location + \"'\");\n",
    "\n",
    "// Exécuter toutes les cellule du notebook\n",
    "    require(\n",
    "        ['base/js/namespace', 'jquery'], \n",
    "        function(jupyter, $) {\n",
    "            \n",
    "                \n",
    "                jupyter.actions.call('jupyter-notebook:run-all-cells-below');\n",
    "                jupyter.actions.call('jupyter-notebook:save-notebook');\n",
    "                Jupyter.actions.call('jupyter-notebook:hide-header')\n",
    "\n",
    "        }\n",
    "    );\"\"\")"
   ]
  },
  {
   "cell_type": "code",
   "execution_count": null,
   "metadata": {
    "hide_input": true,
    "hide_output": true,
    "run_control": {
     "marked": false
    }
   },
   "outputs": [],
   "source": [
    "from IPython.core.interactiveshell import InteractiveShell\n",
    "InteractiveShell.ast_node_interactivity = \"all\"\n",
    "HTML(\"\"\"<style>\n",
    "h1 {\n",
    "  font-family: 'Permanent Marker', cursive;\n",
    "  text-align: center;\n",
    "  color: red;\n",
    "  \n",
    "}\n",
    "ol {\n",
    "  list-style-position: inside;\n",
    "  margin-left: 1em;\n",
    "  list-style-position: outside;\n",
    "}\n",
    "h2 {\n",
    "  font-family: 'Permanent Marker', cursive;\n",
    "  color: blue;\n",
    "}\n",
    "</style>\"\"\")"
   ]
  },
  {
   "cell_type": "markdown",
   "metadata": {},
   "source": [
    "# TD_02_1 : Récursivité et fractales"
   ]
  },
  {
   "cell_type": "markdown",
   "metadata": {},
   "source": [
    "## Rq:\n",
    "Vous devez laisser vos codes même s'ils ne marchent pas (et mettre la correction dans une nouvelle case) et ajouter un peu plus de commentaires si possible"
   ]
  },
  {
   "cell_type": "markdown",
   "metadata": {},
   "source": [
    "## Exercice 1"
   ]
  },
  {
   "cell_type": "markdown",
   "metadata": {},
   "source": [
    "Le but va être de tracer un flocon de KOCH en utilisant la bibliothèque turtle et une fonction récursive.\n",
    "Le principe est de partir d'un triangle équilatéral et ensuite à chaque génération, découper chaque segemnt en trois et remplacer le segment du milieu par les deux côtés restants d'un triangle équilatéral. Ce n'est pas très clair ? Regardez la petite animation ci-dessous qui vous montrera ce qui est attendu sur chaque segment"
   ]
  },
  {
   "cell_type": "code",
   "execution_count": 2,
   "metadata": {
    "hide_input": true,
    "run_control": {
     "marked": false
    }
   },
   "outputs": [
    {
     "data": {
      "text/html": [
       "\n",
       "        <iframe\n",
       "            width=\"560\"\n",
       "            height=\"315\"\n",
       "            src=\"https://www.youtube.com/embed/MTYW4Re_RsY\"\n",
       "            frameborder=\"0\"\n",
       "            allowfullscreen\n",
       "        ></iframe>\n",
       "        "
      ],
      "text/plain": [
       "<IPython.lib.display.IFrame at 0x7f5b684708e0>"
      ]
     },
     "execution_count": 2,
     "metadata": {},
     "output_type": "execute_result"
    }
   ],
   "source": [
    "from IPython.display import IFrame\n",
    "\n",
    "IFrame(\"https://www.youtube.com/embed/MTYW4Re_RsY\",width=\"560\",height=\"315\")"
   ]
  },
  {
   "cell_type": "markdown",
   "metadata": {},
   "source": [
    "Et voici ce que cela donne sous forme de Flocon:\n",
    "![](img/Von_Koch_curve.gif)"
   ]
  },
  {
   "cell_type": "markdown",
   "metadata": {},
   "source": [
    "Un petit exemple d'utilisation de turtle:"
   ]
  },
  {
   "cell_type": "code",
   "execution_count": 3,
   "metadata": {
    "run_control": {
     "marked": false
    }
   },
   "outputs": [
    {
     "ename": "ModuleNotFoundError",
     "evalue": "No module named 'ipyturtle'",
     "output_type": "error",
     "traceback": [
      "\u001b[0;31m---------------------------------------------------------------------------\u001b[0m",
      "\u001b[0;31mModuleNotFoundError\u001b[0m                       Traceback (most recent call last)",
      "\u001b[0;32m<ipython-input-3-447a947afb17>\u001b[0m in \u001b[0;36m<module>\u001b[0;34m\u001b[0m\n\u001b[0;32m----> 1\u001b[0;31m \u001b[0;32mfrom\u001b[0m \u001b[0mipyturtle\u001b[0m \u001b[0;32mimport\u001b[0m \u001b[0;34m*\u001b[0m\u001b[0;34m\u001b[0m\u001b[0;34m\u001b[0m\u001b[0m\n\u001b[0m",
      "\u001b[0;31mModuleNotFoundError\u001b[0m: No module named 'ipyturtle'"
     ]
    }
   ],
   "source": [
    "from ipyturtle import *"
   ]
  },
  {
   "cell_type": "code",
   "execution_count": null,
   "metadata": {
    "run_control": {
     "marked": false
    }
   },
   "outputs": [],
   "source": [
    "# On initialise l'espace de tracé et sa taille et on l'affiche\n",
    "T = Turtle(500,500,False)\n",
    "T"
   ]
  },
  {
   "cell_type": "code",
   "execution_count": null,
   "metadata": {
    "run_control": {
     "marked": false
    }
   },
   "outputs": [],
   "source": [
    "# On remet à zéro l'image et on trace un carré\n",
    "T.reset()\n",
    "for i in range(4):\n",
    "    T.forward(100)\n",
    "    T.right(90)"
   ]
  },
  {
   "cell_type": "markdown",
   "metadata": {},
   "source": [
    "1. Pour essayer turtle, construire une fonction **polygone** qui prend comme argument la taille **t** d'un côté et le nombre **n** de côtés du polygone régulier.\n",
    "2. Construire la fonction **Koch** décrite. Si besoins, suivez le sindications données au tableau."
   ]
  },
  {
   "cell_type": "code",
   "execution_count": null,
   "metadata": {},
   "outputs": [],
   "source": [
    "F = Turtle(500,500,False)\n",
    "F"
   ]
  },
  {
   "cell_type": "code",
   "execution_count": null,
   "metadata": {
    "run_control": {
     "marked": false
    }
   },
   "outputs": [],
   "source": [
    "# Question 1.\n",
    "\n",
    "T.reset()\n",
    "\n",
    "def polygone(t, n):\n",
    "    \n",
    "    angle = 360 / n\n",
    "    for i in range (n):\n",
    "        T.forward(t)\n",
    "        T.right (angle)\n",
    "\n",
    "polygone(100, 6)"
   ]
  },
  {
   "cell_type": "code",
   "execution_count": null,
   "metadata": {
    "run_control": {
     "marked": false
    }
   },
   "outputs": [],
   "source": [
    "# Question 2.\n",
    "\n",
    "def Koch(n, t, T):\n",
    "    if n == 0:\n",
    "        T.forward(t)\n",
    "    else:\n",
    "        Koch(n - 1, t//3, T)\n",
    "        T.left(60)\n",
    "        Koch(n - 1, t//3, T)\n",
    "        T.right(120)\n",
    "        Koch(n - 1, t//3, T)\n",
    "        T.left(60)\n",
    "        Koch(n - 1, t//3, T)\n",
    "        \n",
    "def createKoch(n, t, T):\n",
    "\n",
    "    for i in range (3):\n",
    "        Koch(n, t, T)\n",
    "        T.right(120)\n",
    "\n",
    "F.reset()\n",
    "createKoch(3, 200, F)\n"
   ]
  },
  {
   "cell_type": "markdown",
   "metadata": {},
   "source": [
    "Les propriétés mathématiques de cette figure seront discutées lors de la correction au tableau."
   ]
  },
  {
   "cell_type": "markdown",
   "metadata": {},
   "source": [
    "## Exercice 2"
   ]
  },
  {
   "cell_type": "markdown",
   "metadata": {},
   "source": [
    "Nous allons maintenant travailler sur une autre fractale, le **triangle de Sierpinski**\n",
    "\n",
    "![](img/sierpinski.png)"
   ]
  },
  {
   "cell_type": "markdown",
   "metadata": {},
   "source": [
    "1. Construire une fonction récursive qui trace le triangle de sierpinski en utilisant la bibliothèque Turtle.\n"
   ]
  },
  {
   "cell_type": "code",
   "execution_count": null,
   "metadata": {
    "run_control": {
     "marked": false
    }
   },
   "outputs": [],
   "source": [
    "# Question 1.\n",
    "T = Turtle(500, 500, False)\n",
    "T\n",
    "\n",
    "def sierpinski(n, t, T):\n",
    "    \n",
    "    if n != 0:\n",
    "        for i in range(3):\n",
    "            tri_sierpinski(n-1, t//2, T)\n",
    "            T.forward(t)\n",
    "            T.right(120)\n",
    "            \n",
    "            \n",
    "T.reset()         \n",
    "sierpinski(3, 100, T)\n",
    "    "
   ]
  },
  {
   "cell_type": "markdown",
   "metadata": {},
   "source": [
    "## Exercice 3"
   ]
  },
  {
   "cell_type": "code",
   "execution_count": null,
   "metadata": {
    "hide_input": true,
    "run_control": {
     "marked": false
    }
   },
   "outputs": [],
   "source": [
    "from IPython.display import IFrame\n",
    "IFrame(\"https://www.youtube.com/embed/w_9P7icYh7Y\",560,315)"
   ]
  },
  {
   "cell_type": "markdown",
   "metadata": {},
   "source": [
    "Régardez la vidéo ci-dessus.\n",
    "1. Proposer une fonction **hanoi** récursive, qui prend comme argument le nombre **n** de disques et tout argument qui  vous paraîtra utile. Cette fonction doit renvoyer la liste des mouvements nécessaires pour résoudre le problème. Par exemple **hanoi(2)** doit renvoyer **[(1,2), (1,3), (2,3)]** c'est à dire déplacer le disque du dessus de la tour 1 vers la tour 2, puis faire de même de la tour 1 à la tour 3 et enfin de la tour 2 à la tour 3.\n"
   ]
  },
  {
   "cell_type": "code",
   "execution_count": null,
   "metadata": {
    "run_control": {
     "marked": false
    }
   },
   "outputs": [],
   "source": [
    "# Question 1.\n",
    "def hanoi(n,L=[],d=1,m=2,f=3): #m est la pile intermédiaire, d début et f la fin\n",
    "    if n==1:\n",
    "        L.append((d,f))\n",
    "        return L\n",
    "    else:\n",
    "        hanoi(n-1,L,d,f,m) \n",
    "        L.append((d,f))\n",
    "        hanoi(n-1,L,m,d,f)\n",
    "    return L\n",
    "\n",
    "hanoi(3) #2**(n-1) mouvements NON! (2**n)-1\n"
   ]
  },
  {
   "cell_type": "markdown",
   "metadata": {},
   "source": [
    "$nbr(n=1) = 2^1 - 1 = 1$ Vrai\n",
    "\n",
    "Supposons $nbr(n) = 2^n - 1$\n",
    "\n",
    "Alors $nbr(n+1) = nbr(n) + 1 + nbr(n)$\n",
    "d'où $nbr(n+1) = 2*nbr(n) +1$\n",
    "et donc $nbr(n+1) = 2*(2^n - 1) + 1= 2^{n+1} - 2 + 1 = 2^{n+1} - 1$ CQFD\n",
    "\n",
    "Donc Pour tout n, $nbr(n) = 2^n -1$"
   ]
  }
 ],
 "metadata": {
  "celltoolbar": "None",
  "kernelspec": {
   "display_name": "Python 3",
   "language": "python",
   "name": "python3"
  },
  "language_info": {
   "codemirror_mode": {
    "name": "ipython",
    "version": 3
   },
   "file_extension": ".py",
   "mimetype": "text/x-python",
   "name": "python",
   "nbconvert_exporter": "python",
   "pygments_lexer": "ipython3",
   "version": "3.8.6"
  },
  "varInspector": {
   "cols": {
    "lenName": 16,
    "lenType": 16,
    "lenVar": 40
   },
   "kernels_config": {
    "python": {
     "delete_cmd_postfix": "",
     "delete_cmd_prefix": "del ",
     "library": "var_list.py",
     "varRefreshCmd": "print(var_dic_list())"
    },
    "r": {
     "delete_cmd_postfix": ") ",
     "delete_cmd_prefix": "rm(",
     "library": "var_list.r",
     "varRefreshCmd": "cat(var_dic_list()) "
    }
   },
   "types_to_exclude": [
    "module",
    "function",
    "builtin_function_or_method",
    "instance",
    "_Feature"
   ],
   "window_display": false
  }
 },
 "nbformat": 4,
 "nbformat_minor": 4
}
