{
 "cells": [
  {
   "cell_type": "code",
   "execution_count": 2,
   "metadata": {},
   "outputs": [
    {
     "data": {
      "application/javascript": [
       "let timerId = setInterval(() => IPython.notebook.kernel.execute(\"a=1\"), 300000);\n",
       "setTimeout(() => { clearInterval(timerId); alert('fin de cession'); },7200000)"
      ],
      "text/plain": [
       "<IPython.core.display.Javascript object>"
      ]
     },
     "execution_count": 2,
     "metadata": {},
     "output_type": "execute_result"
    }
   ],
   "source": [
    "from IPython.display import Javascript\n",
    "from ipywidgets import FileUpload, Button, HBox, Layout, Dropdown, VBox,Label, Accordion,HTML, Image\n",
    "import os\n",
    "timeout = 120 # minutes\n",
    "Javascript(\"\"\"let timerId = setInterval(() => IPython.notebook.kernel.execute(\"a=1\"), 300000);\n",
    "setTimeout(() => { clearInterval(timerId); alert('fin de cession'); },\"\"\"+ str(timeout*1000*60)+\")\")"
   ]
  },
  {
   "cell_type": "code",
   "execution_count": 2,
   "metadata": {},
   "outputs": [
    {
     "data": {
      "application/javascript": [
       "Jupyter.actions.call('jupyter-notebook:hide-header')"
      ],
      "text/plain": [
       "<IPython.core.display.Javascript object>"
      ]
     },
     "execution_count": 2,
     "metadata": {},
     "output_type": "execute_result"
    }
   ],
   "source": [
    "Javascript(\"\"\"Jupyter.actions.call('jupyter-notebook:hide-header')\"\"\")"
   ]
  },
  {
   "cell_type": "code",
   "execution_count": 3,
   "metadata": {},
   "outputs": [
    {
     "data": {
      "application/javascript": [
       "Jupyter.actions.call('jupyter-notebook:hide-toolbar')"
      ],
      "text/plain": [
       "<IPython.core.display.Javascript object>"
      ]
     },
     "execution_count": 3,
     "metadata": {},
     "output_type": "execute_result"
    }
   ],
   "source": [
    "Javascript(\"\"\"Jupyter.actions.call('jupyter-notebook:hide-toolbar')\"\"\")"
   ]
  },
  {
   "cell_type": "code",
   "execution_count": 4,
   "metadata": {},
   "outputs": [
    {
     "data": {
      "application/vnd.jupyter.widget-view+json": {
       "model_id": "eed84d7c78324a08a232093a0b1081b2",
       "version_major": 2,
       "version_minor": 0
      },
      "text/plain": [
       "HTML(value='<h1 style=\"text-align:center; width:100%;\"> Cours de terminale NSI 2020/2021 </h1>')"
      ]
     },
     "metadata": {},
     "output_type": "display_data"
    }
   ],
   "source": [
    "display(HTML(\"\"\"<h1 style=\"text-align:center; width:100%;\"> Cours de terminale NSI 2020/2021 </h1>\"\"\"))"
   ]
  },
  {
   "cell_type": "code",
   "execution_count": 5,
   "metadata": {},
   "outputs": [
    {
     "data": {
      "application/vnd.jupyter.widget-view+json": {
       "model_id": "a5b2dd086505462399f76d065f99ed44",
       "version_major": 2,
       "version_minor": 0
      },
      "text/plain": [
       "HBox(children=(Dropdown(description='Cours', options=('Original', '01', '02', '03', '04', '05', '06', '07', '0…"
      ]
     },
     "metadata": {},
     "output_type": "display_data"
    },
    {
     "data": {
      "application/vnd.jupyter.widget-view+json": {
       "model_id": "df2888f35434453383fcb6b9b4fa3a36",
       "version_major": 2,
       "version_minor": 0
      },
      "text/plain": [
       "Accordion(children=(HBox(children=(Image(value=b'\\xff\\xd8\\xff\\xe0\\x00\\x10JFIF\\x00\\x01\\x01\\x01\\x01,\\x01,\\x00\\x0…"
      ]
     },
     "metadata": {},
     "output_type": "display_data"
    }
   ],
   "source": [
    "def changeLinks(code):\n",
    "    liens = []\n",
    "    if code == 0 or code ==\"Original\":\n",
    "        liens.append(\"\"\"<ul><li><a href=\"../notebooks/Cours_00/cours_00.ipynb\" target=\"_blank\">Cours_00</a></li>\n",
    "<ul><li><a href=\"../notebooks/Cours_00/TD_00_1.ipynb\" target=\"_blank\">TD_00_1</a></li></ul></ul>\"\"\")\n",
    "        \n",
    "        liens.append(\"\"\"<ul>\n",
    "    <li><a href=\"../notebooks/Cours_01/cours_01_1.ipynb\" target=\"_blank\">I. Le tableau</a></li>\n",
    "    <li><a href=\"../notebooks/Cours_01/cours_01_2.ipynb\" target=\"_blank\">II. La Pile</a></li>\n",
    "    <ul>\n",
    "        <li><a href=\"../notebooks/Cours_01/TD_01_1.ipynb\" target=\"_blank\">TD_01_1 - Utilisation des piles</a> et <a href=\"../notebooks/Cours_01/TD_01_1_cor.ipynb\">correction</a></li>\n",
    "    </ul>\n",
    "    <li><a href=\"../notebooks/Cours_01/cours_01_3.ipynb\" target=\"_blank\">III. La File</a></li>\n",
    "    <li><a href=\"../notebooks/Cours_01/cours_01_4.ipynb\" target=\"_blank\">IV. La Liste chaînée</a></li>\n",
    "    <ul>\n",
    "        <li><a href=\"../notebooks/Cours_01/TD_01_2.ipynb\" target=\"_blank\">TD_01_2 - Autres structures de données</a></li>\n",
    "        <li><a href=\"../notebooks/Cours_01/TD_01_3.ipynb\" target=\"_blank\">TD_01_3 - Implémentation de structures de données par programmation orientée objet</a></li>\n",
    "    </ul>\n",
    "    <li><a href=\"../notebooks/Cours_01/cours_01_5.ipynb\" target=\"_blank\">V. Le Dictionnaire</a></li>\n",
    "</ul>\"\"\")\n",
    "        \n",
    "        liens.append(\"\"\"<ul>\n",
    "                    <li><a href=\"../notebooks/Cours_02/cours_02_1.ipynb\" target=\"_blank\">I. Définitions</a></li>\n",
    "                    <li><a href=\"../notebooks/Cours_02/cours_02_2.ipynb\" target=\"_blank\">II. Pile d'appel</a></li>\n",
    "                    <ul>\n",
    "                        <li><a href=\"../notebooks/Cours_02/TD_02_1.ipynb\" target=\"_blank\">TD_02_1 - Fonctions récursives et fractales</a></li>\n",
    "                    </ul>\n",
    "                    <li><a href=\"../notebooks/Cours_02/cours_02_3.ipynb\" target=\"_blank\">III. Limites</a></li>\n",
    "                    <ul>\n",
    "                        <li><a href=\"../notebooks/Cours_02/TD_02_2.ipynb\" target=\"_blank\">TD_02_2 - Ecrire des fonctions récursives</a></li>\n",
    "                    </ul>\n",
    "                </ul>\"\"\")\n",
    "        \n",
    "        liens.append(\"\"\"<ul><li><a href=\"../notebooks/Cours_03/cours_03_1.ipynb\" target=\"_blank\">I. César</a></li>\n",
    "<li><a href=\"../notebooks/Cours_03/cours_03_2.ipynb\" target=\"_blank\">II. Vigenère</a></li>\n",
    "<li><a href=\"../notebooks/Cours_03/cours_03_3.ipynb\" target=\"_blank\">III. Chiffrement à clé publique</a></li>\n",
    "<ul><li><a href=\"../notebooks/Cours_03/TD_03_1.ipynb\" target=\"_blank\">TD_03_1 - Nombres premiers</a></li>\n",
    "<li><a href=\"../notebooks/Cours_03/TD_03_2.ipynb\" target=\"_blank\">TD_03_2 - RSA 1/2</a></li>\n",
    "<li><a href=\"../notebooks/Cours_03/TD_03_3.ipynb\" target=\"_blank\">TD_03_3 - RSA 2/2</a></li></ul></ul>\"\"\")\n",
    "        liens.append(\"\"\"<ul><li><a href=\"../notebooks/Cours_04/cours_04_1.ipynb\" target=\"_blank\">I. Tri insertion</a></li>\n",
    "<ul><li><a href=\"../notebooks/Cours_04/TD_04_1.ipynb\" target=\"_blank\">TD_04_1 - Efficacité d'un tri</a></li></ul>\n",
    "<li><a href=\"../notebooks/Cours_04/cours_04_2.ipynb\" target=\"_blank\">II. Tri à bulles</a></li>\n",
    "<li><a href=\"../notebooks/Cours_04/cours_04_3.ipynb\" target=\"_blank\">III. Tri Fusion</a></li>\n",
    "<li><a href=\"../notebooks/Cours_04/cours_04_4.ipynb\" target=\"_blank\">IV. Quicksort</a></li>\n",
    "</ul>\"\"\")\n",
    "        liens.append(\"\"\"<ul><li><a href=\"../notebooks/Cours_05/cours_05_1.ipynb\" target=\"_blank\">I. Retour sur les algorithmes de tri</a></li>\n",
    "<li><a href=\"../notebooks/Cours_05/cours_05_1.ipynb\" target=\"_blank\">II. Autres algorithmes</a></li></ul>\"\"\")\n",
    "    else:\n",
    "        code = int(code)\n",
    "        liens.append(\"\"\"<ul><li><a href=\"../notebooks/personnalisation_2020/{0:02d}/cours_00.ipynb\" target=\"_blank\">Cours_00</a></li>\n",
    "<ul><li><a href=\"../notebooks/personnalisation_2020/{0:02d}/TD_00_1.ipynb\" target=\"_blank\">TD_00_1</a></li></ul></ul>\"\"\".format(code))\n",
    "        \n",
    "        liens.append(\"\"\"<ul>\n",
    "    <li><a href=\"../notebooks/personnalisation_2020/{0:02d}/cours_01_1.ipynb\" target=\"_blank\">I. Le tableau</a></li>\n",
    "    <li><a href=\"../notebooks/personnalisation_2020/{0:02d}/cours_01_2.ipynb\" target=\"_blank\">II. La Pile</a></li>\n",
    "    <ul>\n",
    "        <li><a href=\"../notebooks/personnalisation_2020/{0:02d}/TD_01_1.ipynb\" target=\"_blank\">TD_01_1 - Utilisation des piles</a> et <a href=\"../notebooks/Cours_01/TD_01_1_cor.ipynb\">correction</a></li>\n",
    "    </ul>\n",
    "    <li><a href=\"../notebooks/personnalisation_2020/{0:02d}/cours_01_3.ipynb\" target=\"_blank\">III. La File</a></li>\n",
    "    <li><a href=\"../notebooks/personnalisation_2020/{0:02d}/cours_01_4.ipynb\" target=\"_blank\">IV. La Liste chaînée</a></li>\n",
    "    <ul>\n",
    "        <li><a href=\"../notebooks/personnalisation_2020/{0:02d}/TD_01_2.ipynb\" target=\"_blank\">TD_01_2 - Autres structures de données</a></li>\n",
    "        <li><a href=\"../notebooks/personnalisation_2020/{0:02d}/TD_01_3.ipynb\" target=\"_blank\">TD_01_3 - Implémentation de structures de données par programmation orientée objet</a></li>\n",
    "    </ul>\n",
    "    <li><a href=\"../notebooks/personnalisation_2020/{0:02d}/cours_01_5.ipynb\" target=\"_blank\">V. Le Dictionnaire</a></li>\n",
    "</ul>\"\"\".format(code))\n",
    "        \n",
    "        liens.append(\"\"\"<ul>\n",
    "                    <li><a href=\"../notebooks/personnalisation_2020/{0:02d}/cours_02_1.ipynb\" target=\"_blank\">I. Définitions</a></li>\n",
    "                    <li><a href=\"../notebooks/personnalisation_2020/{0:02d}/cours_02_2.ipynb\" target=\"_blank\">II. Pile d'appel</a></li>\n",
    "                    <ul>\n",
    "                        <li><a href=\"../notebooks/personnalisation_2020/{0:02d}/TD_02_1.ipynb\" target=\"_blank\">TD_02_1 - Fonctions récursives et fractales</a></li>\n",
    "                    </ul>\n",
    "                    <li><a href=\"../notebooks/personnalisation_2020/{0:02d}/cours_02_3.ipynb\" target=\"_blank\">III. Limites</a></li>\n",
    "                    <ul>\n",
    "                        <li><a href=\"../notebooks/personnalisation_2020/{0:02d}/TD_02_2.ipynb\" target=\"_blank\">TD_02_2 - Ecrire des fonctions récursives</a></li>\n",
    "                    </ul>\n",
    "                </ul>\"\"\".format(code))\n",
    "        \n",
    "        liens.append(\"\"\"<ul><li><a href=\"../notebooks/personnalisation_2020/{0:02d}/cours_03_1.ipynb\" target=\"_blank\">I. César</a></li>\n",
    "<li><a href=\"../notebooks/personnalisation_2020/{0:02d}/cours_03_2.ipynb\" target=\"_blank\">II. Vigenère</a></li>\n",
    "<li><a href=\"../notebooks/personnalisation_2020/{0:02d}/cours_03_3.ipynb\" target=\"_blank\">III. Chiffrement à clé publique</a></li>\n",
    "<ul><li><a href=\"../notebooks/personnalisation_2020/{0:02d}/TD_03_1.ipynb\" target=\"_blank\">TD_03_1 - Nombres premiers</a></li>\n",
    "<li><a href=\"../notebooks/personnalisation_2020/{0:02d}/TD_03_2.ipynb\" target=\"_blank\">TD_03_2 - RSA 1/2</a></li>\n",
    "<li><a href=\"../notebooks/personnalisation_2020/{0:02d}/TD_03_3.ipynb\" target=\"_blank\">TD_03_3 - RSA 2/2</a></li></ul></ul>\"\"\".format(code))\n",
    "        \n",
    "        liens.append(\"\"\"<ul><li><a href=\"../notebooks/personnalisation_2020/{0:02d}/cours_04_1.ipynb\" target=\"_blank\">I. Tri insertion</a></li>\n",
    "<ul><li><a href=\"../notebooks/personnalisation_2020/{0:02d}/TD_04_1.ipynb\" target=\"_blank\">TD_04_1 - Efficacité d'un tri</a></li></ul>\n",
    "<li><a href=\"../notebooks/personnalisation_2020/{0:02d}/cours_04_2.ipynb\" target=\"_blank\">II. Tri à bulles</a></li>\n",
    "<li><a href=\"../notebooks/personnalisation_2020/{0:02d}/cours_04_3.ipynb\" target=\"_blank\">III. Tri fusion</a></li>\n",
    "<li><a href=\"../notebooks/personnalisation_2020/{0:02d}/cours_04_4.ipynb\" target=\"_blank\">IV. Quicksort</a></li>\n",
    "</ul>\"\"\".format(code))\n",
    "        liens.append(\"\"\"<ul><li><a href=\"../notebooks/personnalisation_2020/{0:02d}/cours_05_1.ipynb\" target=\"_blank\">I. Retour sur les algorithmes de tri</a></li>\n",
    "<li><a href=\"../notebooks/personnalisation_2020/{0:02d}/cours_05_1.ipynb\" target=\"_blank\">II. autres algorithmes</a></li></ul>\"\"\".format(code))\n",
    "    return liens\n",
    "\n",
    "liens = changeLinks(0)\n",
    "\n",
    "accordion = Accordion(children=[\n",
    "    HBox([Image(\n",
    "    value=open(\"img/mise_en_route.jpg\", \"rb\").read(),\n",
    "    format='jpg',\n",
    "    width=400,\n",
    "    height=400,\n",
    "),HTML(liens[0])]), \n",
    "    \n",
    "    HBox([Image(\n",
    "    value=open(\"img/hashtable.png\", \"rb\").read(),\n",
    "    format='png',\n",
    "    width=400,\n",
    "    height=400,\n",
    "),HTML(liens[1])]), \n",
    "    \n",
    "    HBox([HTML(value='<img src=\"https://upload.wikimedia.org/wikipedia/commons/0/07/Tower_of_Hanoi.jpeg\" width=\"400px\">'\n",
    "),HTML(liens[2])]), \n",
    "    \n",
    "    HBox([Image(\n",
    "    value=open(\"img/enigma.jpg\", \"rb\").read(),\n",
    "    format='jpg',\n",
    "    width=400,\n",
    "    height=400,\n",
    "),HTML(liens[3])]),\n",
    "\n",
    "    HBox([HTML(value='<img src=\"https://upload.wikimedia.org/wikipedia/commons/5/54/Sorting_bubblesort_anim.gif\" width=\"400px\">'\n",
    "),HTML(liens[4])]),\n",
    "\n",
    "    HBox([HTML(value='<img src=\"https://upload.wikimedia.org/wikipedia/commons/4/4a/Trois_%C3%A9tapes_illustr%C3%A9_avec_l%27algorithme_du_tri_fusion.svg\" width=\"400px\">'\n",
    "),HTML(liens[5])])\n",
    "])\n",
    "\n",
    "accordion.set_title(0, 'Cours 00 - Mise en route')\n",
    "accordion.set_title(1, 'Cours 01 - Structures de données')\n",
    "accordion.set_title(2, 'Cours 02 - Récursivité')\n",
    "accordion.set_title(3, 'Cours 03 - Cryptographie')\n",
    "accordion.set_title(4, 'Cours 04 - Rappels et approfondissements sur les Tris')\n",
    "accordion.set_title(5, 'Cours 05 - Diviser pour régner')\n",
    "\n",
    "\n",
    "def change2(b):\n",
    "    global liens,bou4,accordion\n",
    "    if bou4.value == \"Original\":\n",
    "        liens = changeLinks(0)\n",
    "    else:\n",
    "        liens = changeLinks(bou4.value)\n",
    "    for i in range(len(accordion.children)):\n",
    "        accordion.children[i].children[1].value=liens[i]\n",
    "        \n",
    "    \n",
    "\n",
    "liste_e = [val for val in os.listdir(\"./personnalisation_2020/\") if len(val)==2 and val[0]!=\".\"]\n",
    "liste_e.sort()\n",
    "liste_e = [\"Original\"] + liste_e\n",
    "    \n",
    "bou4 = Dropdown(\n",
    "    options=liste_e,\n",
    "    value=\"Original\",\n",
    "    description='Cours',\n",
    "    disabled=False,\n",
    ")\n",
    "\n",
    "bou4.observe(change2,\"value\")\n",
    "display(HBox([bou4,HTML(\"\"\"<a href=\"../apps/environnement.ipynb\" target=\"_blank\">Environnement Jupyter</a>\"\"\")]))\n",
    "display(accordion)"
   ]
  }
 ],
 "metadata": {
  "kernelspec": {
   "display_name": "Python 3",
   "language": "python",
   "name": "python3"
  },
  "language_info": {
   "codemirror_mode": {
    "name": "ipython",
    "version": 3
   },
   "file_extension": ".py",
   "mimetype": "text/x-python",
   "name": "python",
   "nbconvert_exporter": "python",
   "pygments_lexer": "ipython3",
   "version": "3.7.8"
  },
  "varInspector": {
   "cols": {
    "lenName": 16,
    "lenType": 16,
    "lenVar": 40
   },
   "kernels_config": {
    "python": {
     "delete_cmd_postfix": "",
     "delete_cmd_prefix": "del ",
     "library": "var_list.py",
     "varRefreshCmd": "print(var_dic_list())"
    },
    "r": {
     "delete_cmd_postfix": ") ",
     "delete_cmd_prefix": "rm(",
     "library": "var_list.r",
     "varRefreshCmd": "cat(var_dic_list()) "
    }
   },
   "types_to_exclude": [
    "module",
    "function",
    "builtin_function_or_method",
    "instance",
    "_Feature"
   ],
   "window_display": false
  }
 },
 "nbformat": 4,
 "nbformat_minor": 4
}
